{
  "nbformat": 4,
  "nbformat_minor": 0,
  "metadata": {
    "colab": {
      "provenance": [],
      "mount_file_id": "1vG7rn_uVFnyxVZMh_scVaTS5kHx1Dpid",
      "authorship_tag": "ABX9TyMNJaBPCBaDpiyozFW6tKQB",
      "include_colab_link": true
    },
    "kernelspec": {
      "name": "python3",
      "display_name": "Python 3"
    },
    "language_info": {
      "name": "python"
    }
  },
  "cells": [
    {
      "cell_type": "markdown",
      "metadata": {
        "id": "view-in-github",
        "colab_type": "text"
      },
      "source": [
        "<a href=\"https://colab.research.google.com/github/Habibmaryam/Flood-Prediction/blob/main/Flood_prediction_in_Lagos%2C_Nigeria.ipynb\" target=\"_parent\"><img src=\"https://colab.research.google.com/assets/colab-badge.svg\" alt=\"Open In Colab\"/></a>"
      ]
    },
    {
      "cell_type": "markdown",
      "source": [
        "# **Import libraries**"
      ],
      "metadata": {
        "id": "35TWbeh4G3Wj"
      }
    },
    {
      "cell_type": "code",
      "execution_count": 1,
      "metadata": {
        "id": "0C4KS0Zuo05f"
      },
      "outputs": [],
      "source": [
        "#importing the required libraries\n",
        "\n",
        "import pandas as pd\n",
        "import numpy as np\n",
        "import matplotlib.pyplot as plt\n",
        "import seaborn as sns\n",
        "%matplotlib inline\n",
        "import warnings\n",
        "import matplotlib.pyplot as plt\n",
        "from sklearn import metrics\n",
        "warnings.filterwarnings(\"ignore\")\n",
        "from sklearn.preprocessing import OneHotEncoder\n",
        "from sklearn.linear_model import LogisticRegression\n",
        "from sklearn.model_selection import train_test_split\n",
        "from sklearn.impute import SimpleImputer\n",
        "from sklearn.preprocessing import StandardScaler\n",
        "from scipy.stats import f_oneway, kruskal"
      ]
    },
    {
      "cell_type": "code",
      "source": [
        "from google.colab import drive\n",
        "drive.mount('/content/drive')"
      ],
      "metadata": {
        "colab": {
          "base_uri": "https://localhost:8080/"
        },
        "id": "QkjVwwFWp07l",
        "outputId": "d69f5477-e14e-43cc-b50e-2b1d8d143a8e"
      },
      "execution_count": 2,
      "outputs": [
        {
          "output_type": "stream",
          "name": "stdout",
          "text": [
            "Drive already mounted at /content/drive; to attempt to forcibly remount, call drive.mount(\"/content/drive\", force_remount=True).\n"
          ]
        }
      ]
    },
    {
      "cell_type": "markdown",
      "source": [
        "# **Data Preprocessing**"
      ],
      "metadata": {
        "id": "WW_9YsLyDAIv"
      }
    },
    {
      "cell_type": "code",
      "source": [
        "# load the dataset and print the first 5 rows of the data set\n",
        "\n",
        "lagos = pd.read_csv(\"/content/drive/MyDrive/Lagos_flood.csv\")\n",
        "lagos.head()"
      ],
      "metadata": {
        "colab": {
          "base_uri": "https://localhost:8080/",
          "height": 429
        },
        "id": "RxXBNde9qDi3",
        "outputId": "3f8bdd48-dc2b-4672-e9a2-61a4980bf1ca"
      },
      "execution_count": 4,
      "outputs": [
        {
          "output_type": "execute_result",
          "data": {
            "text/plain": [
              "    name   datetime  tempmax  tempmin  temp  feelslikemax  feelslikemin  \\\n",
              "0  Lagos  5/13/2004     31.7     28.2  30.0          38.9          32.6   \n",
              "1  Lagos  5/14/2004     26.6     25.7  26.3          26.6          25.7   \n",
              "2  Lagos  5/15/2004     25.1     25.1  25.1          25.1          25.1   \n",
              "3  Lagos  5/16/2004     22.9     22.9  22.9          22.9          22.9   \n",
              "4  Lagos  5/17/2004     31.4     25.1  28.6          38.7          25.1   \n",
              "\n",
              "   feelslike   dew  humidity  ...  severerisk              sunrise  \\\n",
              "0       35.8  24.9      74.7  ...         NaN  2004-05-13T06:30:34   \n",
              "1       26.3  25.9      97.5  ...         NaN  2004-05-14T06:30:27   \n",
              "2       25.1  25.1     100.0  ...         NaN  2004-05-15T06:30:20   \n",
              "3       22.9  22.2      95.8  ...         NaN  2004-05-16T06:30:14   \n",
              "4       33.6  25.5      84.2  ...         NaN  2004-05-17T06:30:08   \n",
              "\n",
              "                sunset moonphase        conditions  \\\n",
              "0  2004-05-13T18:55:02      0.80  Partially cloudy   \n",
              "1  2004-05-14T18:55:10      0.83  Partially cloudy   \n",
              "2  2004-05-15T18:55:18      0.87  Partially cloudy   \n",
              "3  2004-05-16T18:55:27      0.90  Partially cloudy   \n",
              "4  2004-05-17T18:55:36      0.94  Partially cloudy   \n",
              "\n",
              "                         description               icon     stations  \\\n",
              "0  Becoming cloudy in the afternoon.  partly-cloudy-day  65201099999   \n",
              "1  Partly cloudy throughout the day.  partly-cloudy-day  65201099999   \n",
              "2         Clearing in the afternoon.  partly-cloudy-day  65201099999   \n",
              "3         Clearing in the afternoon.  partly-cloudy-day  65201099999   \n",
              "4  Partly cloudy throughout the day.  partly-cloudy-day  65201099999   \n",
              "\n",
              "   windspeedmax  windspeedmin  \n",
              "0           NaN           NaN  \n",
              "1           NaN           NaN  \n",
              "2           NaN           NaN  \n",
              "3           NaN           NaN  \n",
              "4           NaN           NaN  \n",
              "\n",
              "[5 rows x 34 columns]"
            ],
            "text/html": [
              "\n",
              "  <div id=\"df-2d1cf943-e755-4cf8-81b5-aa62aa76ea90\" class=\"colab-df-container\">\n",
              "    <div>\n",
              "<style scoped>\n",
              "    .dataframe tbody tr th:only-of-type {\n",
              "        vertical-align: middle;\n",
              "    }\n",
              "\n",
              "    .dataframe tbody tr th {\n",
              "        vertical-align: top;\n",
              "    }\n",
              "\n",
              "    .dataframe thead th {\n",
              "        text-align: right;\n",
              "    }\n",
              "</style>\n",
              "<table border=\"1\" class=\"dataframe\">\n",
              "  <thead>\n",
              "    <tr style=\"text-align: right;\">\n",
              "      <th></th>\n",
              "      <th>name</th>\n",
              "      <th>datetime</th>\n",
              "      <th>tempmax</th>\n",
              "      <th>tempmin</th>\n",
              "      <th>temp</th>\n",
              "      <th>feelslikemax</th>\n",
              "      <th>feelslikemin</th>\n",
              "      <th>feelslike</th>\n",
              "      <th>dew</th>\n",
              "      <th>humidity</th>\n",
              "      <th>...</th>\n",
              "      <th>severerisk</th>\n",
              "      <th>sunrise</th>\n",
              "      <th>sunset</th>\n",
              "      <th>moonphase</th>\n",
              "      <th>conditions</th>\n",
              "      <th>description</th>\n",
              "      <th>icon</th>\n",
              "      <th>stations</th>\n",
              "      <th>windspeedmax</th>\n",
              "      <th>windspeedmin</th>\n",
              "    </tr>\n",
              "  </thead>\n",
              "  <tbody>\n",
              "    <tr>\n",
              "      <th>0</th>\n",
              "      <td>Lagos</td>\n",
              "      <td>5/13/2004</td>\n",
              "      <td>31.7</td>\n",
              "      <td>28.2</td>\n",
              "      <td>30.0</td>\n",
              "      <td>38.9</td>\n",
              "      <td>32.6</td>\n",
              "      <td>35.8</td>\n",
              "      <td>24.9</td>\n",
              "      <td>74.7</td>\n",
              "      <td>...</td>\n",
              "      <td>NaN</td>\n",
              "      <td>2004-05-13T06:30:34</td>\n",
              "      <td>2004-05-13T18:55:02</td>\n",
              "      <td>0.80</td>\n",
              "      <td>Partially cloudy</td>\n",
              "      <td>Becoming cloudy in the afternoon.</td>\n",
              "      <td>partly-cloudy-day</td>\n",
              "      <td>65201099999</td>\n",
              "      <td>NaN</td>\n",
              "      <td>NaN</td>\n",
              "    </tr>\n",
              "    <tr>\n",
              "      <th>1</th>\n",
              "      <td>Lagos</td>\n",
              "      <td>5/14/2004</td>\n",
              "      <td>26.6</td>\n",
              "      <td>25.7</td>\n",
              "      <td>26.3</td>\n",
              "      <td>26.6</td>\n",
              "      <td>25.7</td>\n",
              "      <td>26.3</td>\n",
              "      <td>25.9</td>\n",
              "      <td>97.5</td>\n",
              "      <td>...</td>\n",
              "      <td>NaN</td>\n",
              "      <td>2004-05-14T06:30:27</td>\n",
              "      <td>2004-05-14T18:55:10</td>\n",
              "      <td>0.83</td>\n",
              "      <td>Partially cloudy</td>\n",
              "      <td>Partly cloudy throughout the day.</td>\n",
              "      <td>partly-cloudy-day</td>\n",
              "      <td>65201099999</td>\n",
              "      <td>NaN</td>\n",
              "      <td>NaN</td>\n",
              "    </tr>\n",
              "    <tr>\n",
              "      <th>2</th>\n",
              "      <td>Lagos</td>\n",
              "      <td>5/15/2004</td>\n",
              "      <td>25.1</td>\n",
              "      <td>25.1</td>\n",
              "      <td>25.1</td>\n",
              "      <td>25.1</td>\n",
              "      <td>25.1</td>\n",
              "      <td>25.1</td>\n",
              "      <td>25.1</td>\n",
              "      <td>100.0</td>\n",
              "      <td>...</td>\n",
              "      <td>NaN</td>\n",
              "      <td>2004-05-15T06:30:20</td>\n",
              "      <td>2004-05-15T18:55:18</td>\n",
              "      <td>0.87</td>\n",
              "      <td>Partially cloudy</td>\n",
              "      <td>Clearing in the afternoon.</td>\n",
              "      <td>partly-cloudy-day</td>\n",
              "      <td>65201099999</td>\n",
              "      <td>NaN</td>\n",
              "      <td>NaN</td>\n",
              "    </tr>\n",
              "    <tr>\n",
              "      <th>3</th>\n",
              "      <td>Lagos</td>\n",
              "      <td>5/16/2004</td>\n",
              "      <td>22.9</td>\n",
              "      <td>22.9</td>\n",
              "      <td>22.9</td>\n",
              "      <td>22.9</td>\n",
              "      <td>22.9</td>\n",
              "      <td>22.9</td>\n",
              "      <td>22.2</td>\n",
              "      <td>95.8</td>\n",
              "      <td>...</td>\n",
              "      <td>NaN</td>\n",
              "      <td>2004-05-16T06:30:14</td>\n",
              "      <td>2004-05-16T18:55:27</td>\n",
              "      <td>0.90</td>\n",
              "      <td>Partially cloudy</td>\n",
              "      <td>Clearing in the afternoon.</td>\n",
              "      <td>partly-cloudy-day</td>\n",
              "      <td>65201099999</td>\n",
              "      <td>NaN</td>\n",
              "      <td>NaN</td>\n",
              "    </tr>\n",
              "    <tr>\n",
              "      <th>4</th>\n",
              "      <td>Lagos</td>\n",
              "      <td>5/17/2004</td>\n",
              "      <td>31.4</td>\n",
              "      <td>25.1</td>\n",
              "      <td>28.6</td>\n",
              "      <td>38.7</td>\n",
              "      <td>25.1</td>\n",
              "      <td>33.6</td>\n",
              "      <td>25.5</td>\n",
              "      <td>84.2</td>\n",
              "      <td>...</td>\n",
              "      <td>NaN</td>\n",
              "      <td>2004-05-17T06:30:08</td>\n",
              "      <td>2004-05-17T18:55:36</td>\n",
              "      <td>0.94</td>\n",
              "      <td>Partially cloudy</td>\n",
              "      <td>Partly cloudy throughout the day.</td>\n",
              "      <td>partly-cloudy-day</td>\n",
              "      <td>65201099999</td>\n",
              "      <td>NaN</td>\n",
              "      <td>NaN</td>\n",
              "    </tr>\n",
              "  </tbody>\n",
              "</table>\n",
              "<p>5 rows × 34 columns</p>\n",
              "</div>\n",
              "    <div class=\"colab-df-buttons\">\n",
              "\n",
              "  <div class=\"colab-df-container\">\n",
              "    <button class=\"colab-df-convert\" onclick=\"convertToInteractive('df-2d1cf943-e755-4cf8-81b5-aa62aa76ea90')\"\n",
              "            title=\"Convert this dataframe to an interactive table.\"\n",
              "            style=\"display:none;\">\n",
              "\n",
              "  <svg xmlns=\"http://www.w3.org/2000/svg\" height=\"24px\" viewBox=\"0 -960 960 960\">\n",
              "    <path d=\"M120-120v-720h720v720H120Zm60-500h600v-160H180v160Zm220 220h160v-160H400v160Zm0 220h160v-160H400v160ZM180-400h160v-160H180v160Zm440 0h160v-160H620v160ZM180-180h160v-160H180v160Zm440 0h160v-160H620v160Z\"/>\n",
              "  </svg>\n",
              "    </button>\n",
              "\n",
              "  <style>\n",
              "    .colab-df-container {\n",
              "      display:flex;\n",
              "      gap: 12px;\n",
              "    }\n",
              "\n",
              "    .colab-df-convert {\n",
              "      background-color: #E8F0FE;\n",
              "      border: none;\n",
              "      border-radius: 50%;\n",
              "      cursor: pointer;\n",
              "      display: none;\n",
              "      fill: #1967D2;\n",
              "      height: 32px;\n",
              "      padding: 0 0 0 0;\n",
              "      width: 32px;\n",
              "    }\n",
              "\n",
              "    .colab-df-convert:hover {\n",
              "      background-color: #E2EBFA;\n",
              "      box-shadow: 0px 1px 2px rgba(60, 64, 67, 0.3), 0px 1px 3px 1px rgba(60, 64, 67, 0.15);\n",
              "      fill: #174EA6;\n",
              "    }\n",
              "\n",
              "    .colab-df-buttons div {\n",
              "      margin-bottom: 4px;\n",
              "    }\n",
              "\n",
              "    [theme=dark] .colab-df-convert {\n",
              "      background-color: #3B4455;\n",
              "      fill: #D2E3FC;\n",
              "    }\n",
              "\n",
              "    [theme=dark] .colab-df-convert:hover {\n",
              "      background-color: #434B5C;\n",
              "      box-shadow: 0px 1px 3px 1px rgba(0, 0, 0, 0.15);\n",
              "      filter: drop-shadow(0px 1px 2px rgba(0, 0, 0, 0.3));\n",
              "      fill: #FFFFFF;\n",
              "    }\n",
              "  </style>\n",
              "\n",
              "    <script>\n",
              "      const buttonEl =\n",
              "        document.querySelector('#df-2d1cf943-e755-4cf8-81b5-aa62aa76ea90 button.colab-df-convert');\n",
              "      buttonEl.style.display =\n",
              "        google.colab.kernel.accessAllowed ? 'block' : 'none';\n",
              "\n",
              "      async function convertToInteractive(key) {\n",
              "        const element = document.querySelector('#df-2d1cf943-e755-4cf8-81b5-aa62aa76ea90');\n",
              "        const dataTable =\n",
              "          await google.colab.kernel.invokeFunction('convertToInteractive',\n",
              "                                                    [key], {});\n",
              "        if (!dataTable) return;\n",
              "\n",
              "        const docLinkHtml = 'Like what you see? Visit the ' +\n",
              "          '<a target=\"_blank\" href=https://colab.research.google.com/notebooks/data_table.ipynb>data table notebook</a>'\n",
              "          + ' to learn more about interactive tables.';\n",
              "        element.innerHTML = '';\n",
              "        dataTable['output_type'] = 'display_data';\n",
              "        await google.colab.output.renderOutput(dataTable, element);\n",
              "        const docLink = document.createElement('div');\n",
              "        docLink.innerHTML = docLinkHtml;\n",
              "        element.appendChild(docLink);\n",
              "      }\n",
              "    </script>\n",
              "  </div>\n",
              "\n",
              "\n",
              "<div id=\"df-54c3b0c7-bf60-462b-bce1-6508393a3d69\">\n",
              "  <button class=\"colab-df-quickchart\" onclick=\"quickchart('df-54c3b0c7-bf60-462b-bce1-6508393a3d69')\"\n",
              "            title=\"Suggest charts\"\n",
              "            style=\"display:none;\">\n",
              "\n",
              "<svg xmlns=\"http://www.w3.org/2000/svg\" height=\"24px\"viewBox=\"0 0 24 24\"\n",
              "     width=\"24px\">\n",
              "    <g>\n",
              "        <path d=\"M19 3H5c-1.1 0-2 .9-2 2v14c0 1.1.9 2 2 2h14c1.1 0 2-.9 2-2V5c0-1.1-.9-2-2-2zM9 17H7v-7h2v7zm4 0h-2V7h2v10zm4 0h-2v-4h2v4z\"/>\n",
              "    </g>\n",
              "</svg>\n",
              "  </button>\n",
              "\n",
              "<style>\n",
              "  .colab-df-quickchart {\n",
              "      --bg-color: #E8F0FE;\n",
              "      --fill-color: #1967D2;\n",
              "      --hover-bg-color: #E2EBFA;\n",
              "      --hover-fill-color: #174EA6;\n",
              "      --disabled-fill-color: #AAA;\n",
              "      --disabled-bg-color: #DDD;\n",
              "  }\n",
              "\n",
              "  [theme=dark] .colab-df-quickchart {\n",
              "      --bg-color: #3B4455;\n",
              "      --fill-color: #D2E3FC;\n",
              "      --hover-bg-color: #434B5C;\n",
              "      --hover-fill-color: #FFFFFF;\n",
              "      --disabled-bg-color: #3B4455;\n",
              "      --disabled-fill-color: #666;\n",
              "  }\n",
              "\n",
              "  .colab-df-quickchart {\n",
              "    background-color: var(--bg-color);\n",
              "    border: none;\n",
              "    border-radius: 50%;\n",
              "    cursor: pointer;\n",
              "    display: none;\n",
              "    fill: var(--fill-color);\n",
              "    height: 32px;\n",
              "    padding: 0;\n",
              "    width: 32px;\n",
              "  }\n",
              "\n",
              "  .colab-df-quickchart:hover {\n",
              "    background-color: var(--hover-bg-color);\n",
              "    box-shadow: 0 1px 2px rgba(60, 64, 67, 0.3), 0 1px 3px 1px rgba(60, 64, 67, 0.15);\n",
              "    fill: var(--button-hover-fill-color);\n",
              "  }\n",
              "\n",
              "  .colab-df-quickchart-complete:disabled,\n",
              "  .colab-df-quickchart-complete:disabled:hover {\n",
              "    background-color: var(--disabled-bg-color);\n",
              "    fill: var(--disabled-fill-color);\n",
              "    box-shadow: none;\n",
              "  }\n",
              "\n",
              "  .colab-df-spinner {\n",
              "    border: 2px solid var(--fill-color);\n",
              "    border-color: transparent;\n",
              "    border-bottom-color: var(--fill-color);\n",
              "    animation:\n",
              "      spin 1s steps(1) infinite;\n",
              "  }\n",
              "\n",
              "  @keyframes spin {\n",
              "    0% {\n",
              "      border-color: transparent;\n",
              "      border-bottom-color: var(--fill-color);\n",
              "      border-left-color: var(--fill-color);\n",
              "    }\n",
              "    20% {\n",
              "      border-color: transparent;\n",
              "      border-left-color: var(--fill-color);\n",
              "      border-top-color: var(--fill-color);\n",
              "    }\n",
              "    30% {\n",
              "      border-color: transparent;\n",
              "      border-left-color: var(--fill-color);\n",
              "      border-top-color: var(--fill-color);\n",
              "      border-right-color: var(--fill-color);\n",
              "    }\n",
              "    40% {\n",
              "      border-color: transparent;\n",
              "      border-right-color: var(--fill-color);\n",
              "      border-top-color: var(--fill-color);\n",
              "    }\n",
              "    60% {\n",
              "      border-color: transparent;\n",
              "      border-right-color: var(--fill-color);\n",
              "    }\n",
              "    80% {\n",
              "      border-color: transparent;\n",
              "      border-right-color: var(--fill-color);\n",
              "      border-bottom-color: var(--fill-color);\n",
              "    }\n",
              "    90% {\n",
              "      border-color: transparent;\n",
              "      border-bottom-color: var(--fill-color);\n",
              "    }\n",
              "  }\n",
              "</style>\n",
              "\n",
              "  <script>\n",
              "    async function quickchart(key) {\n",
              "      const quickchartButtonEl =\n",
              "        document.querySelector('#' + key + ' button');\n",
              "      quickchartButtonEl.disabled = true;  // To prevent multiple clicks.\n",
              "      quickchartButtonEl.classList.add('colab-df-spinner');\n",
              "      try {\n",
              "        const charts = await google.colab.kernel.invokeFunction(\n",
              "            'suggestCharts', [key], {});\n",
              "      } catch (error) {\n",
              "        console.error('Error during call to suggestCharts:', error);\n",
              "      }\n",
              "      quickchartButtonEl.classList.remove('colab-df-spinner');\n",
              "      quickchartButtonEl.classList.add('colab-df-quickchart-complete');\n",
              "    }\n",
              "    (() => {\n",
              "      let quickchartButtonEl =\n",
              "        document.querySelector('#df-54c3b0c7-bf60-462b-bce1-6508393a3d69 button');\n",
              "      quickchartButtonEl.style.display =\n",
              "        google.colab.kernel.accessAllowed ? 'block' : 'none';\n",
              "    })();\n",
              "  </script>\n",
              "</div>\n",
              "\n",
              "    </div>\n",
              "  </div>\n"
            ],
            "application/vnd.google.colaboratory.intrinsic+json": {
              "type": "dataframe",
              "variable_name": "lagos"
            }
          },
          "metadata": {},
          "execution_count": 4
        }
      ]
    },
    {
      "cell_type": "code",
      "source": [
        "# Knowing the size of the data set\n",
        "lagos.shape"
      ],
      "metadata": {
        "colab": {
          "base_uri": "https://localhost:8080/"
        },
        "id": "wvgjX_7bHACk",
        "outputId": "f4c71200-1b6e-4256-ab07-ccb1a2d4275f"
      },
      "execution_count": 5,
      "outputs": [
        {
          "output_type": "execute_result",
          "data": {
            "text/plain": [
              "(7357, 34)"
            ]
          },
          "metadata": {},
          "execution_count": 5
        }
      ]
    },
    {
      "cell_type": "code",
      "source": [
        "# Columns information\n",
        "lagos.info()"
      ],
      "metadata": {
        "colab": {
          "base_uri": "https://localhost:8080/"
        },
        "id": "w0tLrim_G_6R",
        "outputId": "ca28d58a-d57e-491e-c0d4-c879d8c64277"
      },
      "execution_count": 6,
      "outputs": [
        {
          "output_type": "stream",
          "name": "stdout",
          "text": [
            "<class 'pandas.core.frame.DataFrame'>\n",
            "RangeIndex: 7357 entries, 0 to 7356\n",
            "Data columns (total 34 columns):\n",
            " #   Column            Non-Null Count  Dtype  \n",
            "---  ------            --------------  -----  \n",
            " 0   name              7357 non-null   object \n",
            " 1   datetime          7357 non-null   object \n",
            " 2   tempmax           7021 non-null   float64\n",
            " 3   tempmin           7021 non-null   float64\n",
            " 4   temp              7021 non-null   float64\n",
            " 5   feelslikemax      7021 non-null   float64\n",
            " 6   feelslikemin      7021 non-null   float64\n",
            " 7   feelslike         7021 non-null   float64\n",
            " 8   dew               7021 non-null   float64\n",
            " 9   humidity          7021 non-null   float64\n",
            " 10  precip            7021 non-null   float64\n",
            " 11  precipprob        7021 non-null   float64\n",
            " 12  precipcover       7357 non-null   float64\n",
            " 13  preciptype        3340 non-null   object \n",
            " 14  flood occurrence  7357 non-null   int64  \n",
            " 15  windgust          5420 non-null   float64\n",
            " 16  windspeed         6991 non-null   float64\n",
            " 17  winddir           6643 non-null   float64\n",
            " 18  sealevelpressure  6836 non-null   float64\n",
            " 19  cloudcover        7021 non-null   float64\n",
            " 20  visibility        6820 non-null   float64\n",
            " 21  solarradiation    4932 non-null   float64\n",
            " 22  solarenergy       4932 non-null   float64\n",
            " 23  uvindex           4932 non-null   float64\n",
            " 24  severerisk        906 non-null    float64\n",
            " 25  sunrise           6991 non-null   object \n",
            " 26  sunset            6991 non-null   object \n",
            " 27  moonphase         6991 non-null   float64\n",
            " 28  conditions        6665 non-null   object \n",
            " 29  description       6665 non-null   object \n",
            " 30  icon              6665 non-null   object \n",
            " 31  stations          6665 non-null   object \n",
            " 32  windspeedmax      366 non-null    float64\n",
            " 33  windspeedmin      366 non-null    float64\n",
            "dtypes: float64(24), int64(1), object(9)\n",
            "memory usage: 1.9+ MB\n"
          ]
        }
      ]
    },
    {
      "cell_type": "code",
      "source": [
        "# Columns with null values\n",
        "lagos.isnull().sum()"
      ],
      "metadata": {
        "colab": {
          "base_uri": "https://localhost:8080/"
        },
        "id": "jTem6mqeHmcC",
        "outputId": "5530650d-0d62-4429-96db-695b77103432"
      },
      "execution_count": 7,
      "outputs": [
        {
          "output_type": "execute_result",
          "data": {
            "text/plain": [
              "name                   0\n",
              "datetime               0\n",
              "tempmax              336\n",
              "tempmin              336\n",
              "temp                 336\n",
              "feelslikemax         336\n",
              "feelslikemin         336\n",
              "feelslike            336\n",
              "dew                  336\n",
              "humidity             336\n",
              "precip               336\n",
              "precipprob           336\n",
              "precipcover            0\n",
              "preciptype          4017\n",
              "flood occurrence       0\n",
              "windgust            1937\n",
              "windspeed            366\n",
              "winddir              714\n",
              "sealevelpressure     521\n",
              "cloudcover           336\n",
              "visibility           537\n",
              "solarradiation      2425\n",
              "solarenergy         2425\n",
              "uvindex             2425\n",
              "severerisk          6451\n",
              "sunrise              366\n",
              "sunset               366\n",
              "moonphase            366\n",
              "conditions           692\n",
              "description          692\n",
              "icon                 692\n",
              "stations             692\n",
              "windspeedmax        6991\n",
              "windspeedmin        6991\n",
              "dtype: int64"
            ]
          },
          "metadata": {},
          "execution_count": 7
        }
      ]
    },
    {
      "cell_type": "code",
      "source": [
        "# Column names\n",
        "lagos.columns"
      ],
      "metadata": {
        "colab": {
          "base_uri": "https://localhost:8080/"
        },
        "id": "ja9wsbNxVZ6A",
        "outputId": "af6a392e-000c-47cf-d7e2-0c5aeeae5dc8"
      },
      "execution_count": 8,
      "outputs": [
        {
          "output_type": "execute_result",
          "data": {
            "text/plain": [
              "Index(['name', 'datetime', 'tempmax', 'tempmin', 'temp', 'feelslikemax',\n",
              "       'feelslikemin', 'feelslike', 'dew', 'humidity', 'precip', 'precipprob',\n",
              "       'precipcover', 'preciptype', 'flood occurrence', 'windgust',\n",
              "       'windspeed', 'winddir', 'sealevelpressure', 'cloudcover', 'visibility',\n",
              "       'solarradiation', 'solarenergy', 'uvindex', 'severerisk', 'sunrise',\n",
              "       'sunset', 'moonphase', 'conditions', 'description', 'icon', 'stations',\n",
              "       'windspeedmax', 'windspeedmin'],\n",
              "      dtype='object')"
            ]
          },
          "metadata": {},
          "execution_count": 8
        }
      ]
    },
    {
      "cell_type": "code",
      "source": [
        "# Convert the datetime column to a proper datetime format\n",
        "lagos['datetime'] = pd.to_datetime(lagos['datetime'], dayfirst=True, errors='coerce')\n"
      ],
      "metadata": {
        "id": "j6Km1dsIEsAl"
      },
      "execution_count": 9,
      "outputs": []
    },
    {
      "cell_type": "code",
      "source": [
        "# Handle missing values in the 'precip' column by forward filling\n",
        "lagos['precip'] = lagos['precip'].fillna(method='ffill')"
      ],
      "metadata": {
        "id": "kHaz-OoCE5PC"
      },
      "execution_count": 10,
      "outputs": []
    },
    {
      "cell_type": "code",
      "source": [
        "tempax_mean = lagos['tempmax'].mean()\n",
        "tempax_mean"
      ],
      "metadata": {
        "colab": {
          "base_uri": "https://localhost:8080/"
        },
        "id": "1x1jYZoFIRsN",
        "outputId": "25ee3b92-703e-4883-b080-9eb84526dd73"
      },
      "execution_count": 11,
      "outputs": [
        {
          "output_type": "execute_result",
          "data": {
            "text/plain": [
              "31.22402791625125"
            ]
          },
          "metadata": {},
          "execution_count": 11
        }
      ]
    },
    {
      "cell_type": "code",
      "source": [
        "# Fill the empty cells in the 'tempmax' column\n",
        "lagos['tempmax'] = lagos['tempmax'].fillna(tempax_mean)"
      ],
      "metadata": {
        "id": "flUZV02yFEwQ"
      },
      "execution_count": 12,
      "outputs": []
    },
    {
      "cell_type": "code",
      "source": [
        "lagos['tempmax'].isna().sum()"
      ],
      "metadata": {
        "colab": {
          "base_uri": "https://localhost:8080/"
        },
        "id": "g8QTizPDH-cX",
        "outputId": "5fa111cc-6f5c-424b-e3c4-ddfa66952824"
      },
      "execution_count": 13,
      "outputs": [
        {
          "output_type": "execute_result",
          "data": {
            "text/plain": [
              "0"
            ]
          },
          "metadata": {},
          "execution_count": 13
        }
      ]
    },
    {
      "cell_type": "code",
      "source": [
        "tempmin_mean = lagos['tempmin'].mean()\n",
        "tempmin_mean"
      ],
      "metadata": {
        "colab": {
          "base_uri": "https://localhost:8080/"
        },
        "id": "00nl58ZpJWe7",
        "outputId": "64d61cbf-122f-4e81-ed87-ddb445d60ceb"
      },
      "execution_count": 14,
      "outputs": [
        {
          "output_type": "execute_result",
          "data": {
            "text/plain": [
              "24.43050847457627"
            ]
          },
          "metadata": {},
          "execution_count": 14
        }
      ]
    },
    {
      "cell_type": "code",
      "source": [
        "# Fill the empty cells in the 'tempmin' column\n",
        "lagos['tempmin'] = lagos['tempmin'].fillna(tempmin_mean)"
      ],
      "metadata": {
        "id": "XHH_dw5nJWbu"
      },
      "execution_count": 15,
      "outputs": []
    },
    {
      "cell_type": "code",
      "source": [
        "humidity_mean = lagos['humidity'].mean()\n",
        "humidity_mean"
      ],
      "metadata": {
        "colab": {
          "base_uri": "https://localhost:8080/"
        },
        "id": "gB2rNnjVMVHw",
        "outputId": "365209de-556c-4c1f-f41a-c1fde307d591"
      },
      "execution_count": 16,
      "outputs": [
        {
          "output_type": "execute_result",
          "data": {
            "text/plain": [
              "82.73332858567154"
            ]
          },
          "metadata": {},
          "execution_count": 16
        }
      ]
    },
    {
      "cell_type": "code",
      "source": [
        "# Fill the empty cells in the 'humidity' column\n",
        "lagos['humidity'] = lagos['humidity'].fillna(humidity_mean)"
      ],
      "metadata": {
        "id": "OXZcX0UzJWUu"
      },
      "execution_count": 17,
      "outputs": []
    },
    {
      "cell_type": "code",
      "source": [
        "windspeed_mean = lagos['windspeed'].mean()\n",
        "windspeed_mean"
      ],
      "metadata": {
        "colab": {
          "base_uri": "https://localhost:8080/"
        },
        "id": "88AYfU2dMFce",
        "outputId": "fb965021-d22a-4502-920a-1f621c4c82ef"
      },
      "execution_count": 18,
      "outputs": [
        {
          "output_type": "execute_result",
          "data": {
            "text/plain": [
              "22.34547275067945"
            ]
          },
          "metadata": {},
          "execution_count": 18
        }
      ]
    },
    {
      "cell_type": "code",
      "source": [
        "# Fill the empty cells in the 'windspeed' column with 'no rain'\n",
        "lagos['windspeed'] = lagos['windspeed'].fillna(windspeed_mean)"
      ],
      "metadata": {
        "id": "S24MUDppMFWG"
      },
      "execution_count": 19,
      "outputs": []
    },
    {
      "cell_type": "code",
      "source": [
        "winddir_mean = lagos['winddir'].mean()\n",
        "winddir_mean"
      ],
      "metadata": {
        "colab": {
          "base_uri": "https://localhost:8080/"
        },
        "id": "LN9W-KO3NZQA",
        "outputId": "6095871c-e1ae-40af-8fa8-5d0a71164c2d"
      },
      "execution_count": 20,
      "outputs": [
        {
          "output_type": "execute_result",
          "data": {
            "text/plain": [
              "219.0587084148728"
            ]
          },
          "metadata": {},
          "execution_count": 20
        }
      ]
    },
    {
      "cell_type": "code",
      "source": [
        "# Fill the empty cells in the 'winddir' column with 'no rain'\n",
        "lagos['winddir'] = lagos['winddir'].fillna(winddir_mean)"
      ],
      "metadata": {
        "id": "pG5SP9IlNIdx"
      },
      "execution_count": 21,
      "outputs": []
    },
    {
      "cell_type": "code",
      "source": [
        "cloudcover_mean = lagos['cloudcover'].mean()\n",
        "cloudcover_mean"
      ],
      "metadata": {
        "colab": {
          "base_uri": "https://localhost:8080/"
        },
        "id": "A_otWoM1NZJZ",
        "outputId": "ed5b0f88-0a20-45b9-c6f7-779ae98cbbde"
      },
      "execution_count": 22,
      "outputs": [
        {
          "output_type": "execute_result",
          "data": {
            "text/plain": [
              "60.31083891183592"
            ]
          },
          "metadata": {},
          "execution_count": 22
        }
      ]
    },
    {
      "cell_type": "code",
      "source": [
        "# Fill the empty cells in the 'winddir' column with 'no rain'\n",
        "lagos['cloudcover'] = lagos['cloudcover'].fillna(cloudcover_mean)"
      ],
      "metadata": {
        "id": "UcquCmczMFOh"
      },
      "execution_count": 23,
      "outputs": []
    },
    {
      "cell_type": "code",
      "source": [
        "visibility_mean = lagos['visibility'].mean()\n",
        "visibility_mean"
      ],
      "metadata": {
        "colab": {
          "base_uri": "https://localhost:8080/"
        },
        "id": "yvkM3d-3NIaQ",
        "outputId": "fedb420b-56d4-4737-db7c-c6731bf786d5"
      },
      "execution_count": 24,
      "outputs": [
        {
          "output_type": "execute_result",
          "data": {
            "text/plain": [
              "8.778958944281525"
            ]
          },
          "metadata": {},
          "execution_count": 24
        }
      ]
    },
    {
      "cell_type": "code",
      "source": [
        "# Fill the empty cells in the 'winddir' column with 'no rain'\n",
        "lagos['visibility'] = lagos['visibility'].fillna(visibility_mean)"
      ],
      "metadata": {
        "id": "HqE8XzFHPRbH"
      },
      "execution_count": 25,
      "outputs": []
    },
    {
      "cell_type": "code",
      "source": [
        "feelslikemin_mean = lagos['feelslikemin'].mean()\n",
        "feelslikemin_mean"
      ],
      "metadata": {
        "colab": {
          "base_uri": "https://localhost:8080/"
        },
        "id": "4hUoLaJKP44i",
        "outputId": "c375fc9f-287f-48c9-d753-4856a805b90b"
      },
      "execution_count": 26,
      "outputs": [
        {
          "output_type": "execute_result",
          "data": {
            "text/plain": [
              "24.90690784788492"
            ]
          },
          "metadata": {},
          "execution_count": 26
        }
      ]
    },
    {
      "cell_type": "code",
      "source": [
        "# Fill the empty cells in the 'winddir' column with 'no rain'\n",
        "lagos['feelslikemin'] = lagos['feelslikemin'].fillna(feelslikemin_mean)"
      ],
      "metadata": {
        "id": "Xrc2_lVFP4xT"
      },
      "execution_count": 27,
      "outputs": []
    },
    {
      "cell_type": "code",
      "source": [
        "feelslikemax_mean = lagos['feelslikemax'].mean()\n",
        "feelslikemax_mean"
      ],
      "metadata": {
        "colab": {
          "base_uri": "https://localhost:8080/"
        },
        "id": "3zrvLdczP4qz",
        "outputId": "a19e9d9b-770f-4732-9190-bdfc35de5321"
      },
      "execution_count": 28,
      "outputs": [
        {
          "output_type": "execute_result",
          "data": {
            "text/plain": [
              "37.138199686654325"
            ]
          },
          "metadata": {},
          "execution_count": 28
        }
      ]
    },
    {
      "cell_type": "code",
      "source": [
        "# Fill the empty cells in the 'winddir' column with 'no rain'\n",
        "lagos['feelslikemax'] = lagos['feelslikemax'].fillna(feelslikemax_mean)"
      ],
      "metadata": {
        "id": "bs0CPR2FP4h8"
      },
      "execution_count": 29,
      "outputs": []
    },
    {
      "cell_type": "code",
      "source": [
        "dew_mean = lagos['dew'].mean()\n",
        "dew_mean"
      ],
      "metadata": {
        "colab": {
          "base_uri": "https://localhost:8080/"
        },
        "id": "2x53QNs5P4aC",
        "outputId": "1096385a-4439-4fb7-aec6-b64ec4771fd5"
      },
      "execution_count": 30,
      "outputs": [
        {
          "output_type": "execute_result",
          "data": {
            "text/plain": [
              "23.967013245976357"
            ]
          },
          "metadata": {},
          "execution_count": 30
        }
      ]
    },
    {
      "cell_type": "code",
      "source": [
        "# Fill the empty cells in the 'winddir' column with 'no rain'\n",
        "lagos['dew'] = lagos['dew'].fillna(dew_mean)"
      ],
      "metadata": {
        "id": "IQgnlyQOQiDz"
      },
      "execution_count": 31,
      "outputs": []
    },
    {
      "cell_type": "code",
      "source": [
        "sealevelpressure_mean = lagos['sealevelpressure'].mean()\n",
        "sealevelpressure_mean"
      ],
      "metadata": {
        "colab": {
          "base_uri": "https://localhost:8080/"
        },
        "id": "VTOi4A3xQh_U",
        "outputId": "cec0b6fd-238e-41cf-de8b-abfbec5fcfe2"
      },
      "execution_count": 32,
      "outputs": [
        {
          "output_type": "execute_result",
          "data": {
            "text/plain": [
              "1012.0425833820948"
            ]
          },
          "metadata": {},
          "execution_count": 32
        }
      ]
    },
    {
      "cell_type": "code",
      "source": [
        "# Fill the empty cells in the 'winddir' column with 'no rain'\n",
        "lagos['sealevelpressure'] = lagos['sealevelpressure'].fillna(dew_mean)"
      ],
      "metadata": {
        "id": "kgtTVFX7RPEW"
      },
      "execution_count": 33,
      "outputs": []
    },
    {
      "cell_type": "code",
      "source": [
        "# Create a cumulative precipitation column\n",
        "lagos['cumulative_precip'] = lagos['precip'].cumsum()\n",
        "lagos.head()"
      ],
      "metadata": {
        "colab": {
          "base_uri": "https://localhost:8080/",
          "height": 429
        },
        "id": "jBhBQBZyFcHc",
        "outputId": "68ed2555-85b9-4d3e-8516-3287d70363e0"
      },
      "execution_count": 34,
      "outputs": [
        {
          "output_type": "execute_result",
          "data": {
            "text/plain": [
              "    name   datetime  tempmax  tempmin  temp  feelslikemax  feelslikemin  \\\n",
              "0  Lagos 2004-05-13     31.7     28.2  30.0          38.9          32.6   \n",
              "1  Lagos 2004-05-14     26.6     25.7  26.3          26.6          25.7   \n",
              "2  Lagos 2004-05-15     25.1     25.1  25.1          25.1          25.1   \n",
              "3  Lagos 2004-05-16     22.9     22.9  22.9          22.9          22.9   \n",
              "4  Lagos 2004-05-17     31.4     25.1  28.6          38.7          25.1   \n",
              "\n",
              "   feelslike   dew  humidity  ...              sunrise               sunset  \\\n",
              "0       35.8  24.9      74.7  ...  2004-05-13T06:30:34  2004-05-13T18:55:02   \n",
              "1       26.3  25.9      97.5  ...  2004-05-14T06:30:27  2004-05-14T18:55:10   \n",
              "2       25.1  25.1     100.0  ...  2004-05-15T06:30:20  2004-05-15T18:55:18   \n",
              "3       22.9  22.2      95.8  ...  2004-05-16T06:30:14  2004-05-16T18:55:27   \n",
              "4       33.6  25.5      84.2  ...  2004-05-17T06:30:08  2004-05-17T18:55:36   \n",
              "\n",
              "   moonphase        conditions                        description  \\\n",
              "0       0.80  Partially cloudy  Becoming cloudy in the afternoon.   \n",
              "1       0.83  Partially cloudy  Partly cloudy throughout the day.   \n",
              "2       0.87  Partially cloudy         Clearing in the afternoon.   \n",
              "3       0.90  Partially cloudy         Clearing in the afternoon.   \n",
              "4       0.94  Partially cloudy  Partly cloudy throughout the day.   \n",
              "\n",
              "                icon     stations  windspeedmax  windspeedmin  \\\n",
              "0  partly-cloudy-day  65201099999           NaN           NaN   \n",
              "1  partly-cloudy-day  65201099999           NaN           NaN   \n",
              "2  partly-cloudy-day  65201099999           NaN           NaN   \n",
              "3  partly-cloudy-day  65201099999           NaN           NaN   \n",
              "4  partly-cloudy-day  65201099999           NaN           NaN   \n",
              "\n",
              "   cumulative_precip  \n",
              "0                0.0  \n",
              "1                0.0  \n",
              "2                0.0  \n",
              "3                0.0  \n",
              "4                0.0  \n",
              "\n",
              "[5 rows x 35 columns]"
            ],
            "text/html": [
              "\n",
              "  <div id=\"df-8e35fbda-c8f1-4f27-8d68-46b0cd0665cd\" class=\"colab-df-container\">\n",
              "    <div>\n",
              "<style scoped>\n",
              "    .dataframe tbody tr th:only-of-type {\n",
              "        vertical-align: middle;\n",
              "    }\n",
              "\n",
              "    .dataframe tbody tr th {\n",
              "        vertical-align: top;\n",
              "    }\n",
              "\n",
              "    .dataframe thead th {\n",
              "        text-align: right;\n",
              "    }\n",
              "</style>\n",
              "<table border=\"1\" class=\"dataframe\">\n",
              "  <thead>\n",
              "    <tr style=\"text-align: right;\">\n",
              "      <th></th>\n",
              "      <th>name</th>\n",
              "      <th>datetime</th>\n",
              "      <th>tempmax</th>\n",
              "      <th>tempmin</th>\n",
              "      <th>temp</th>\n",
              "      <th>feelslikemax</th>\n",
              "      <th>feelslikemin</th>\n",
              "      <th>feelslike</th>\n",
              "      <th>dew</th>\n",
              "      <th>humidity</th>\n",
              "      <th>...</th>\n",
              "      <th>sunrise</th>\n",
              "      <th>sunset</th>\n",
              "      <th>moonphase</th>\n",
              "      <th>conditions</th>\n",
              "      <th>description</th>\n",
              "      <th>icon</th>\n",
              "      <th>stations</th>\n",
              "      <th>windspeedmax</th>\n",
              "      <th>windspeedmin</th>\n",
              "      <th>cumulative_precip</th>\n",
              "    </tr>\n",
              "  </thead>\n",
              "  <tbody>\n",
              "    <tr>\n",
              "      <th>0</th>\n",
              "      <td>Lagos</td>\n",
              "      <td>2004-05-13</td>\n",
              "      <td>31.7</td>\n",
              "      <td>28.2</td>\n",
              "      <td>30.0</td>\n",
              "      <td>38.9</td>\n",
              "      <td>32.6</td>\n",
              "      <td>35.8</td>\n",
              "      <td>24.9</td>\n",
              "      <td>74.7</td>\n",
              "      <td>...</td>\n",
              "      <td>2004-05-13T06:30:34</td>\n",
              "      <td>2004-05-13T18:55:02</td>\n",
              "      <td>0.80</td>\n",
              "      <td>Partially cloudy</td>\n",
              "      <td>Becoming cloudy in the afternoon.</td>\n",
              "      <td>partly-cloudy-day</td>\n",
              "      <td>65201099999</td>\n",
              "      <td>NaN</td>\n",
              "      <td>NaN</td>\n",
              "      <td>0.0</td>\n",
              "    </tr>\n",
              "    <tr>\n",
              "      <th>1</th>\n",
              "      <td>Lagos</td>\n",
              "      <td>2004-05-14</td>\n",
              "      <td>26.6</td>\n",
              "      <td>25.7</td>\n",
              "      <td>26.3</td>\n",
              "      <td>26.6</td>\n",
              "      <td>25.7</td>\n",
              "      <td>26.3</td>\n",
              "      <td>25.9</td>\n",
              "      <td>97.5</td>\n",
              "      <td>...</td>\n",
              "      <td>2004-05-14T06:30:27</td>\n",
              "      <td>2004-05-14T18:55:10</td>\n",
              "      <td>0.83</td>\n",
              "      <td>Partially cloudy</td>\n",
              "      <td>Partly cloudy throughout the day.</td>\n",
              "      <td>partly-cloudy-day</td>\n",
              "      <td>65201099999</td>\n",
              "      <td>NaN</td>\n",
              "      <td>NaN</td>\n",
              "      <td>0.0</td>\n",
              "    </tr>\n",
              "    <tr>\n",
              "      <th>2</th>\n",
              "      <td>Lagos</td>\n",
              "      <td>2004-05-15</td>\n",
              "      <td>25.1</td>\n",
              "      <td>25.1</td>\n",
              "      <td>25.1</td>\n",
              "      <td>25.1</td>\n",
              "      <td>25.1</td>\n",
              "      <td>25.1</td>\n",
              "      <td>25.1</td>\n",
              "      <td>100.0</td>\n",
              "      <td>...</td>\n",
              "      <td>2004-05-15T06:30:20</td>\n",
              "      <td>2004-05-15T18:55:18</td>\n",
              "      <td>0.87</td>\n",
              "      <td>Partially cloudy</td>\n",
              "      <td>Clearing in the afternoon.</td>\n",
              "      <td>partly-cloudy-day</td>\n",
              "      <td>65201099999</td>\n",
              "      <td>NaN</td>\n",
              "      <td>NaN</td>\n",
              "      <td>0.0</td>\n",
              "    </tr>\n",
              "    <tr>\n",
              "      <th>3</th>\n",
              "      <td>Lagos</td>\n",
              "      <td>2004-05-16</td>\n",
              "      <td>22.9</td>\n",
              "      <td>22.9</td>\n",
              "      <td>22.9</td>\n",
              "      <td>22.9</td>\n",
              "      <td>22.9</td>\n",
              "      <td>22.9</td>\n",
              "      <td>22.2</td>\n",
              "      <td>95.8</td>\n",
              "      <td>...</td>\n",
              "      <td>2004-05-16T06:30:14</td>\n",
              "      <td>2004-05-16T18:55:27</td>\n",
              "      <td>0.90</td>\n",
              "      <td>Partially cloudy</td>\n",
              "      <td>Clearing in the afternoon.</td>\n",
              "      <td>partly-cloudy-day</td>\n",
              "      <td>65201099999</td>\n",
              "      <td>NaN</td>\n",
              "      <td>NaN</td>\n",
              "      <td>0.0</td>\n",
              "    </tr>\n",
              "    <tr>\n",
              "      <th>4</th>\n",
              "      <td>Lagos</td>\n",
              "      <td>2004-05-17</td>\n",
              "      <td>31.4</td>\n",
              "      <td>25.1</td>\n",
              "      <td>28.6</td>\n",
              "      <td>38.7</td>\n",
              "      <td>25.1</td>\n",
              "      <td>33.6</td>\n",
              "      <td>25.5</td>\n",
              "      <td>84.2</td>\n",
              "      <td>...</td>\n",
              "      <td>2004-05-17T06:30:08</td>\n",
              "      <td>2004-05-17T18:55:36</td>\n",
              "      <td>0.94</td>\n",
              "      <td>Partially cloudy</td>\n",
              "      <td>Partly cloudy throughout the day.</td>\n",
              "      <td>partly-cloudy-day</td>\n",
              "      <td>65201099999</td>\n",
              "      <td>NaN</td>\n",
              "      <td>NaN</td>\n",
              "      <td>0.0</td>\n",
              "    </tr>\n",
              "  </tbody>\n",
              "</table>\n",
              "<p>5 rows × 35 columns</p>\n",
              "</div>\n",
              "    <div class=\"colab-df-buttons\">\n",
              "\n",
              "  <div class=\"colab-df-container\">\n",
              "    <button class=\"colab-df-convert\" onclick=\"convertToInteractive('df-8e35fbda-c8f1-4f27-8d68-46b0cd0665cd')\"\n",
              "            title=\"Convert this dataframe to an interactive table.\"\n",
              "            style=\"display:none;\">\n",
              "\n",
              "  <svg xmlns=\"http://www.w3.org/2000/svg\" height=\"24px\" viewBox=\"0 -960 960 960\">\n",
              "    <path d=\"M120-120v-720h720v720H120Zm60-500h600v-160H180v160Zm220 220h160v-160H400v160Zm0 220h160v-160H400v160ZM180-400h160v-160H180v160Zm440 0h160v-160H620v160ZM180-180h160v-160H180v160Zm440 0h160v-160H620v160Z\"/>\n",
              "  </svg>\n",
              "    </button>\n",
              "\n",
              "  <style>\n",
              "    .colab-df-container {\n",
              "      display:flex;\n",
              "      gap: 12px;\n",
              "    }\n",
              "\n",
              "    .colab-df-convert {\n",
              "      background-color: #E8F0FE;\n",
              "      border: none;\n",
              "      border-radius: 50%;\n",
              "      cursor: pointer;\n",
              "      display: none;\n",
              "      fill: #1967D2;\n",
              "      height: 32px;\n",
              "      padding: 0 0 0 0;\n",
              "      width: 32px;\n",
              "    }\n",
              "\n",
              "    .colab-df-convert:hover {\n",
              "      background-color: #E2EBFA;\n",
              "      box-shadow: 0px 1px 2px rgba(60, 64, 67, 0.3), 0px 1px 3px 1px rgba(60, 64, 67, 0.15);\n",
              "      fill: #174EA6;\n",
              "    }\n",
              "\n",
              "    .colab-df-buttons div {\n",
              "      margin-bottom: 4px;\n",
              "    }\n",
              "\n",
              "    [theme=dark] .colab-df-convert {\n",
              "      background-color: #3B4455;\n",
              "      fill: #D2E3FC;\n",
              "    }\n",
              "\n",
              "    [theme=dark] .colab-df-convert:hover {\n",
              "      background-color: #434B5C;\n",
              "      box-shadow: 0px 1px 3px 1px rgba(0, 0, 0, 0.15);\n",
              "      filter: drop-shadow(0px 1px 2px rgba(0, 0, 0, 0.3));\n",
              "      fill: #FFFFFF;\n",
              "    }\n",
              "  </style>\n",
              "\n",
              "    <script>\n",
              "      const buttonEl =\n",
              "        document.querySelector('#df-8e35fbda-c8f1-4f27-8d68-46b0cd0665cd button.colab-df-convert');\n",
              "      buttonEl.style.display =\n",
              "        google.colab.kernel.accessAllowed ? 'block' : 'none';\n",
              "\n",
              "      async function convertToInteractive(key) {\n",
              "        const element = document.querySelector('#df-8e35fbda-c8f1-4f27-8d68-46b0cd0665cd');\n",
              "        const dataTable =\n",
              "          await google.colab.kernel.invokeFunction('convertToInteractive',\n",
              "                                                    [key], {});\n",
              "        if (!dataTable) return;\n",
              "\n",
              "        const docLinkHtml = 'Like what you see? Visit the ' +\n",
              "          '<a target=\"_blank\" href=https://colab.research.google.com/notebooks/data_table.ipynb>data table notebook</a>'\n",
              "          + ' to learn more about interactive tables.';\n",
              "        element.innerHTML = '';\n",
              "        dataTable['output_type'] = 'display_data';\n",
              "        await google.colab.output.renderOutput(dataTable, element);\n",
              "        const docLink = document.createElement('div');\n",
              "        docLink.innerHTML = docLinkHtml;\n",
              "        element.appendChild(docLink);\n",
              "      }\n",
              "    </script>\n",
              "  </div>\n",
              "\n",
              "\n",
              "<div id=\"df-b9a82d0e-bf14-45ff-9f75-103da842dabd\">\n",
              "  <button class=\"colab-df-quickchart\" onclick=\"quickchart('df-b9a82d0e-bf14-45ff-9f75-103da842dabd')\"\n",
              "            title=\"Suggest charts\"\n",
              "            style=\"display:none;\">\n",
              "\n",
              "<svg xmlns=\"http://www.w3.org/2000/svg\" height=\"24px\"viewBox=\"0 0 24 24\"\n",
              "     width=\"24px\">\n",
              "    <g>\n",
              "        <path d=\"M19 3H5c-1.1 0-2 .9-2 2v14c0 1.1.9 2 2 2h14c1.1 0 2-.9 2-2V5c0-1.1-.9-2-2-2zM9 17H7v-7h2v7zm4 0h-2V7h2v10zm4 0h-2v-4h2v4z\"/>\n",
              "    </g>\n",
              "</svg>\n",
              "  </button>\n",
              "\n",
              "<style>\n",
              "  .colab-df-quickchart {\n",
              "      --bg-color: #E8F0FE;\n",
              "      --fill-color: #1967D2;\n",
              "      --hover-bg-color: #E2EBFA;\n",
              "      --hover-fill-color: #174EA6;\n",
              "      --disabled-fill-color: #AAA;\n",
              "      --disabled-bg-color: #DDD;\n",
              "  }\n",
              "\n",
              "  [theme=dark] .colab-df-quickchart {\n",
              "      --bg-color: #3B4455;\n",
              "      --fill-color: #D2E3FC;\n",
              "      --hover-bg-color: #434B5C;\n",
              "      --hover-fill-color: #FFFFFF;\n",
              "      --disabled-bg-color: #3B4455;\n",
              "      --disabled-fill-color: #666;\n",
              "  }\n",
              "\n",
              "  .colab-df-quickchart {\n",
              "    background-color: var(--bg-color);\n",
              "    border: none;\n",
              "    border-radius: 50%;\n",
              "    cursor: pointer;\n",
              "    display: none;\n",
              "    fill: var(--fill-color);\n",
              "    height: 32px;\n",
              "    padding: 0;\n",
              "    width: 32px;\n",
              "  }\n",
              "\n",
              "  .colab-df-quickchart:hover {\n",
              "    background-color: var(--hover-bg-color);\n",
              "    box-shadow: 0 1px 2px rgba(60, 64, 67, 0.3), 0 1px 3px 1px rgba(60, 64, 67, 0.15);\n",
              "    fill: var(--button-hover-fill-color);\n",
              "  }\n",
              "\n",
              "  .colab-df-quickchart-complete:disabled,\n",
              "  .colab-df-quickchart-complete:disabled:hover {\n",
              "    background-color: var(--disabled-bg-color);\n",
              "    fill: var(--disabled-fill-color);\n",
              "    box-shadow: none;\n",
              "  }\n",
              "\n",
              "  .colab-df-spinner {\n",
              "    border: 2px solid var(--fill-color);\n",
              "    border-color: transparent;\n",
              "    border-bottom-color: var(--fill-color);\n",
              "    animation:\n",
              "      spin 1s steps(1) infinite;\n",
              "  }\n",
              "\n",
              "  @keyframes spin {\n",
              "    0% {\n",
              "      border-color: transparent;\n",
              "      border-bottom-color: var(--fill-color);\n",
              "      border-left-color: var(--fill-color);\n",
              "    }\n",
              "    20% {\n",
              "      border-color: transparent;\n",
              "      border-left-color: var(--fill-color);\n",
              "      border-top-color: var(--fill-color);\n",
              "    }\n",
              "    30% {\n",
              "      border-color: transparent;\n",
              "      border-left-color: var(--fill-color);\n",
              "      border-top-color: var(--fill-color);\n",
              "      border-right-color: var(--fill-color);\n",
              "    }\n",
              "    40% {\n",
              "      border-color: transparent;\n",
              "      border-right-color: var(--fill-color);\n",
              "      border-top-color: var(--fill-color);\n",
              "    }\n",
              "    60% {\n",
              "      border-color: transparent;\n",
              "      border-right-color: var(--fill-color);\n",
              "    }\n",
              "    80% {\n",
              "      border-color: transparent;\n",
              "      border-right-color: var(--fill-color);\n",
              "      border-bottom-color: var(--fill-color);\n",
              "    }\n",
              "    90% {\n",
              "      border-color: transparent;\n",
              "      border-bottom-color: var(--fill-color);\n",
              "    }\n",
              "  }\n",
              "</style>\n",
              "\n",
              "  <script>\n",
              "    async function quickchart(key) {\n",
              "      const quickchartButtonEl =\n",
              "        document.querySelector('#' + key + ' button');\n",
              "      quickchartButtonEl.disabled = true;  // To prevent multiple clicks.\n",
              "      quickchartButtonEl.classList.add('colab-df-spinner');\n",
              "      try {\n",
              "        const charts = await google.colab.kernel.invokeFunction(\n",
              "            'suggestCharts', [key], {});\n",
              "      } catch (error) {\n",
              "        console.error('Error during call to suggestCharts:', error);\n",
              "      }\n",
              "      quickchartButtonEl.classList.remove('colab-df-spinner');\n",
              "      quickchartButtonEl.classList.add('colab-df-quickchart-complete');\n",
              "    }\n",
              "    (() => {\n",
              "      let quickchartButtonEl =\n",
              "        document.querySelector('#df-b9a82d0e-bf14-45ff-9f75-103da842dabd button');\n",
              "      quickchartButtonEl.style.display =\n",
              "        google.colab.kernel.accessAllowed ? 'block' : 'none';\n",
              "    })();\n",
              "  </script>\n",
              "</div>\n",
              "\n",
              "    </div>\n",
              "  </div>\n"
            ],
            "application/vnd.google.colaboratory.intrinsic+json": {
              "type": "dataframe",
              "variable_name": "lagos"
            }
          },
          "metadata": {},
          "execution_count": 34
        }
      ]
    },
    {
      "cell_type": "code",
      "source": [
        "# Define flood threshold (example: 200 mm in 7 days)\n",
        "flood_threshold = 200\n",
        "lagos['is_flood'] = lagos['cumulative_precip'] >= flood_threshold"
      ],
      "metadata": {
        "id": "UKk59AhSjWeh"
      },
      "execution_count": 35,
      "outputs": []
    },
    {
      "cell_type": "code",
      "source": [
        "# Save the updated DataFrame to a new CSV file\n",
        "lagos.to_csv('lagos_flood_prediction.csv', index=False)\n",
        "\n",
        "print(\"Data saved to 'lagos_flood_prediction.csv'\")"
      ],
      "metadata": {
        "id": "t2Sxy6H5kCBc",
        "outputId": "3c675772-fd4e-4243-ab97-9ce3318dddef",
        "colab": {
          "base_uri": "https://localhost:8080/"
        }
      },
      "execution_count": 36,
      "outputs": [
        {
          "output_type": "stream",
          "name": "stdout",
          "text": [
            "Data saved to 'lagos_flood_prediction.csv'\n"
          ]
        }
      ]
    },
    {
      "cell_type": "markdown",
      "source": [
        "# **3. Exploratory Data Analysis (EDA)**"
      ],
      "metadata": {
        "id": "uVr6op7NrdWr"
      }
    },
    {
      "cell_type": "code",
      "source": [
        "lagos.describe().T"
      ],
      "metadata": {
        "colab": {
          "base_uri": "https://localhost:8080/",
          "height": 913
        },
        "id": "k-GHET5AVn2N",
        "outputId": "e72afc2e-b0ed-4c17-f23e-bdcb50fa0c4b"
      },
      "execution_count": 37,
      "outputs": [
        {
          "output_type": "execute_result",
          "data": {
            "text/plain": [
              "                    count                 mean                  min  \\\n",
              "datetime             7357  2014-06-08 00:00:00  2004-05-13 00:00:00   \n",
              "tempmax            7357.0            31.224028                 21.4   \n",
              "tempmin            7357.0            24.430508                 10.0   \n",
              "temp               7021.0            27.410255                 21.4   \n",
              "feelslikemax       7357.0              37.1382                 21.4   \n",
              "feelslikemin       7357.0            24.906908                  6.8   \n",
              "feelslike          7021.0             30.32521                 21.4   \n",
              "dew                7357.0            23.967013                  8.2   \n",
              "humidity           7357.0            82.733329                 33.8   \n",
              "precip             7357.0             4.986829                  0.0   \n",
              "precipprob         7021.0            44.252955                  0.0   \n",
              "precipcover        7357.0             5.354873                  0.0   \n",
              "flood occurrence   7357.0             0.006117                  0.0   \n",
              "windgust           5420.0            29.323893                  0.0   \n",
              "windspeed          7357.0            22.345473                  0.0   \n",
              "winddir            7357.0           219.058708                  1.0   \n",
              "sealevelpressure   7357.0           942.070126            23.967013   \n",
              "cloudcover         7357.0            60.310839                  0.0   \n",
              "visibility         7357.0             8.778959                  0.1   \n",
              "solarradiation     4932.0           191.678325                  0.0   \n",
              "solarenergy        4932.0            16.551034                  0.0   \n",
              "uvindex            4932.0             6.885036                  0.0   \n",
              "severerisk          906.0            45.569536                 10.0   \n",
              "moonphase          6991.0             0.483193                  0.0   \n",
              "windspeedmax        366.0             20.39918                  0.0   \n",
              "windspeedmin        366.0       5867443.355464                  0.0   \n",
              "cumulative_precip  7357.0         18245.716216                  0.0   \n",
              "\n",
              "                                   25%                  50%  \\\n",
              "datetime           2009-05-26 00:00:00  2014-06-08 00:00:00   \n",
              "tempmax                           29.2            31.224028   \n",
              "tempmin                           23.4            24.430508   \n",
              "temp                              26.2                 27.4   \n",
              "feelslikemax                      34.1                 37.3   \n",
              "feelslikemin                      23.4                 24.5   \n",
              "feelslike                         27.5                 30.1   \n",
              "dew                               23.5                 24.2   \n",
              "humidity                          80.5                 83.4   \n",
              "precip                             0.0                  0.0   \n",
              "precipprob                         0.0                  0.0   \n",
              "precipcover                        0.0                  0.0   \n",
              "flood occurrence                   0.0                  0.0   \n",
              "windgust                          23.8                 28.1   \n",
              "windspeed                         16.6                 21.6   \n",
              "winddir                          210.1                221.6   \n",
              "sealevelpressure                1010.4               1011.8   \n",
              "cloudcover                        51.2                 59.5   \n",
              "visibility                         8.1                  9.1   \n",
              "solarradiation                   149.7                200.4   \n",
              "solarenergy                       12.9                 17.3   \n",
              "uvindex                            6.0                  7.0   \n",
              "severerisk                        30.0                 60.0   \n",
              "moonphase                         0.25                 0.48   \n",
              "windspeedmax                      13.0                 16.6   \n",
              "windspeedmin                       0.0                  0.0   \n",
              "cumulative_precip               8140.6              18391.9   \n",
              "\n",
              "                                   75%                  max              std  \n",
              "datetime           2019-06-21 00:00:00  2024-07-03 00:00:00              NaN  \n",
              "tempmax                           33.1                 56.0         2.511114  \n",
              "tempmin                           25.2                 34.6         1.845925  \n",
              "temp                              28.6                 34.6         1.586159  \n",
              "feelslikemax                      40.6                 56.0         4.488366  \n",
              "feelslikemin                      25.2                 45.1         2.906888  \n",
              "feelslike                         32.8                 45.1         3.493872  \n",
              "dew                               25.0                 66.5          1.89029  \n",
              "humidity                          86.6                100.0         7.067742  \n",
              "precip                             1.8                299.0        18.411755  \n",
              "precipprob                       100.0                100.0        49.672154  \n",
              "precipcover                       4.17                100.0        13.244749  \n",
              "flood occurrence                   0.0                  1.0         0.077975  \n",
              "windgust                          33.1                137.2        10.811691  \n",
              "windspeed                         25.9                277.9        12.019376  \n",
              "winddir                          241.0                360.0        45.598044  \n",
              "sealevelpressure                1013.2               1017.3       253.483168  \n",
              "cloudcover                        68.5                100.0        16.445771  \n",
              "visibility                         9.9                 31.3         2.267275  \n",
              "solarradiation                   233.6                303.2        56.006297  \n",
              "solarenergy                       20.2                 26.3         4.840424  \n",
              "uvindex                            8.0                 10.0         1.923386  \n",
              "severerisk                        60.0                100.0        26.277401  \n",
              "moonphase                         0.75                 0.98          0.28886  \n",
              "windspeedmax                      24.1                 82.3         11.51725  \n",
              "windspeedmin                       3.6          214748364.7  35056446.033931  \n",
              "cumulative_precip              27713.7              36688.1     10779.747612  "
            ],
            "text/html": [
              "\n",
              "  <div id=\"df-4c09f88d-2187-4cb2-9fb3-8b5e44dd55b5\" class=\"colab-df-container\">\n",
              "    <div>\n",
              "<style scoped>\n",
              "    .dataframe tbody tr th:only-of-type {\n",
              "        vertical-align: middle;\n",
              "    }\n",
              "\n",
              "    .dataframe tbody tr th {\n",
              "        vertical-align: top;\n",
              "    }\n",
              "\n",
              "    .dataframe thead th {\n",
              "        text-align: right;\n",
              "    }\n",
              "</style>\n",
              "<table border=\"1\" class=\"dataframe\">\n",
              "  <thead>\n",
              "    <tr style=\"text-align: right;\">\n",
              "      <th></th>\n",
              "      <th>count</th>\n",
              "      <th>mean</th>\n",
              "      <th>min</th>\n",
              "      <th>25%</th>\n",
              "      <th>50%</th>\n",
              "      <th>75%</th>\n",
              "      <th>max</th>\n",
              "      <th>std</th>\n",
              "    </tr>\n",
              "  </thead>\n",
              "  <tbody>\n",
              "    <tr>\n",
              "      <th>datetime</th>\n",
              "      <td>7357</td>\n",
              "      <td>2014-06-08 00:00:00</td>\n",
              "      <td>2004-05-13 00:00:00</td>\n",
              "      <td>2009-05-26 00:00:00</td>\n",
              "      <td>2014-06-08 00:00:00</td>\n",
              "      <td>2019-06-21 00:00:00</td>\n",
              "      <td>2024-07-03 00:00:00</td>\n",
              "      <td>NaN</td>\n",
              "    </tr>\n",
              "    <tr>\n",
              "      <th>tempmax</th>\n",
              "      <td>7357.0</td>\n",
              "      <td>31.224028</td>\n",
              "      <td>21.4</td>\n",
              "      <td>29.2</td>\n",
              "      <td>31.224028</td>\n",
              "      <td>33.1</td>\n",
              "      <td>56.0</td>\n",
              "      <td>2.511114</td>\n",
              "    </tr>\n",
              "    <tr>\n",
              "      <th>tempmin</th>\n",
              "      <td>7357.0</td>\n",
              "      <td>24.430508</td>\n",
              "      <td>10.0</td>\n",
              "      <td>23.4</td>\n",
              "      <td>24.430508</td>\n",
              "      <td>25.2</td>\n",
              "      <td>34.6</td>\n",
              "      <td>1.845925</td>\n",
              "    </tr>\n",
              "    <tr>\n",
              "      <th>temp</th>\n",
              "      <td>7021.0</td>\n",
              "      <td>27.410255</td>\n",
              "      <td>21.4</td>\n",
              "      <td>26.2</td>\n",
              "      <td>27.4</td>\n",
              "      <td>28.6</td>\n",
              "      <td>34.6</td>\n",
              "      <td>1.586159</td>\n",
              "    </tr>\n",
              "    <tr>\n",
              "      <th>feelslikemax</th>\n",
              "      <td>7357.0</td>\n",
              "      <td>37.1382</td>\n",
              "      <td>21.4</td>\n",
              "      <td>34.1</td>\n",
              "      <td>37.3</td>\n",
              "      <td>40.6</td>\n",
              "      <td>56.0</td>\n",
              "      <td>4.488366</td>\n",
              "    </tr>\n",
              "    <tr>\n",
              "      <th>feelslikemin</th>\n",
              "      <td>7357.0</td>\n",
              "      <td>24.906908</td>\n",
              "      <td>6.8</td>\n",
              "      <td>23.4</td>\n",
              "      <td>24.5</td>\n",
              "      <td>25.2</td>\n",
              "      <td>45.1</td>\n",
              "      <td>2.906888</td>\n",
              "    </tr>\n",
              "    <tr>\n",
              "      <th>feelslike</th>\n",
              "      <td>7021.0</td>\n",
              "      <td>30.32521</td>\n",
              "      <td>21.4</td>\n",
              "      <td>27.5</td>\n",
              "      <td>30.1</td>\n",
              "      <td>32.8</td>\n",
              "      <td>45.1</td>\n",
              "      <td>3.493872</td>\n",
              "    </tr>\n",
              "    <tr>\n",
              "      <th>dew</th>\n",
              "      <td>7357.0</td>\n",
              "      <td>23.967013</td>\n",
              "      <td>8.2</td>\n",
              "      <td>23.5</td>\n",
              "      <td>24.2</td>\n",
              "      <td>25.0</td>\n",
              "      <td>66.5</td>\n",
              "      <td>1.89029</td>\n",
              "    </tr>\n",
              "    <tr>\n",
              "      <th>humidity</th>\n",
              "      <td>7357.0</td>\n",
              "      <td>82.733329</td>\n",
              "      <td>33.8</td>\n",
              "      <td>80.5</td>\n",
              "      <td>83.4</td>\n",
              "      <td>86.6</td>\n",
              "      <td>100.0</td>\n",
              "      <td>7.067742</td>\n",
              "    </tr>\n",
              "    <tr>\n",
              "      <th>precip</th>\n",
              "      <td>7357.0</td>\n",
              "      <td>4.986829</td>\n",
              "      <td>0.0</td>\n",
              "      <td>0.0</td>\n",
              "      <td>0.0</td>\n",
              "      <td>1.8</td>\n",
              "      <td>299.0</td>\n",
              "      <td>18.411755</td>\n",
              "    </tr>\n",
              "    <tr>\n",
              "      <th>precipprob</th>\n",
              "      <td>7021.0</td>\n",
              "      <td>44.252955</td>\n",
              "      <td>0.0</td>\n",
              "      <td>0.0</td>\n",
              "      <td>0.0</td>\n",
              "      <td>100.0</td>\n",
              "      <td>100.0</td>\n",
              "      <td>49.672154</td>\n",
              "    </tr>\n",
              "    <tr>\n",
              "      <th>precipcover</th>\n",
              "      <td>7357.0</td>\n",
              "      <td>5.354873</td>\n",
              "      <td>0.0</td>\n",
              "      <td>0.0</td>\n",
              "      <td>0.0</td>\n",
              "      <td>4.17</td>\n",
              "      <td>100.0</td>\n",
              "      <td>13.244749</td>\n",
              "    </tr>\n",
              "    <tr>\n",
              "      <th>flood occurrence</th>\n",
              "      <td>7357.0</td>\n",
              "      <td>0.006117</td>\n",
              "      <td>0.0</td>\n",
              "      <td>0.0</td>\n",
              "      <td>0.0</td>\n",
              "      <td>0.0</td>\n",
              "      <td>1.0</td>\n",
              "      <td>0.077975</td>\n",
              "    </tr>\n",
              "    <tr>\n",
              "      <th>windgust</th>\n",
              "      <td>5420.0</td>\n",
              "      <td>29.323893</td>\n",
              "      <td>0.0</td>\n",
              "      <td>23.8</td>\n",
              "      <td>28.1</td>\n",
              "      <td>33.1</td>\n",
              "      <td>137.2</td>\n",
              "      <td>10.811691</td>\n",
              "    </tr>\n",
              "    <tr>\n",
              "      <th>windspeed</th>\n",
              "      <td>7357.0</td>\n",
              "      <td>22.345473</td>\n",
              "      <td>0.0</td>\n",
              "      <td>16.6</td>\n",
              "      <td>21.6</td>\n",
              "      <td>25.9</td>\n",
              "      <td>277.9</td>\n",
              "      <td>12.019376</td>\n",
              "    </tr>\n",
              "    <tr>\n",
              "      <th>winddir</th>\n",
              "      <td>7357.0</td>\n",
              "      <td>219.058708</td>\n",
              "      <td>1.0</td>\n",
              "      <td>210.1</td>\n",
              "      <td>221.6</td>\n",
              "      <td>241.0</td>\n",
              "      <td>360.0</td>\n",
              "      <td>45.598044</td>\n",
              "    </tr>\n",
              "    <tr>\n",
              "      <th>sealevelpressure</th>\n",
              "      <td>7357.0</td>\n",
              "      <td>942.070126</td>\n",
              "      <td>23.967013</td>\n",
              "      <td>1010.4</td>\n",
              "      <td>1011.8</td>\n",
              "      <td>1013.2</td>\n",
              "      <td>1017.3</td>\n",
              "      <td>253.483168</td>\n",
              "    </tr>\n",
              "    <tr>\n",
              "      <th>cloudcover</th>\n",
              "      <td>7357.0</td>\n",
              "      <td>60.310839</td>\n",
              "      <td>0.0</td>\n",
              "      <td>51.2</td>\n",
              "      <td>59.5</td>\n",
              "      <td>68.5</td>\n",
              "      <td>100.0</td>\n",
              "      <td>16.445771</td>\n",
              "    </tr>\n",
              "    <tr>\n",
              "      <th>visibility</th>\n",
              "      <td>7357.0</td>\n",
              "      <td>8.778959</td>\n",
              "      <td>0.1</td>\n",
              "      <td>8.1</td>\n",
              "      <td>9.1</td>\n",
              "      <td>9.9</td>\n",
              "      <td>31.3</td>\n",
              "      <td>2.267275</td>\n",
              "    </tr>\n",
              "    <tr>\n",
              "      <th>solarradiation</th>\n",
              "      <td>4932.0</td>\n",
              "      <td>191.678325</td>\n",
              "      <td>0.0</td>\n",
              "      <td>149.7</td>\n",
              "      <td>200.4</td>\n",
              "      <td>233.6</td>\n",
              "      <td>303.2</td>\n",
              "      <td>56.006297</td>\n",
              "    </tr>\n",
              "    <tr>\n",
              "      <th>solarenergy</th>\n",
              "      <td>4932.0</td>\n",
              "      <td>16.551034</td>\n",
              "      <td>0.0</td>\n",
              "      <td>12.9</td>\n",
              "      <td>17.3</td>\n",
              "      <td>20.2</td>\n",
              "      <td>26.3</td>\n",
              "      <td>4.840424</td>\n",
              "    </tr>\n",
              "    <tr>\n",
              "      <th>uvindex</th>\n",
              "      <td>4932.0</td>\n",
              "      <td>6.885036</td>\n",
              "      <td>0.0</td>\n",
              "      <td>6.0</td>\n",
              "      <td>7.0</td>\n",
              "      <td>8.0</td>\n",
              "      <td>10.0</td>\n",
              "      <td>1.923386</td>\n",
              "    </tr>\n",
              "    <tr>\n",
              "      <th>severerisk</th>\n",
              "      <td>906.0</td>\n",
              "      <td>45.569536</td>\n",
              "      <td>10.0</td>\n",
              "      <td>30.0</td>\n",
              "      <td>60.0</td>\n",
              "      <td>60.0</td>\n",
              "      <td>100.0</td>\n",
              "      <td>26.277401</td>\n",
              "    </tr>\n",
              "    <tr>\n",
              "      <th>moonphase</th>\n",
              "      <td>6991.0</td>\n",
              "      <td>0.483193</td>\n",
              "      <td>0.0</td>\n",
              "      <td>0.25</td>\n",
              "      <td>0.48</td>\n",
              "      <td>0.75</td>\n",
              "      <td>0.98</td>\n",
              "      <td>0.28886</td>\n",
              "    </tr>\n",
              "    <tr>\n",
              "      <th>windspeedmax</th>\n",
              "      <td>366.0</td>\n",
              "      <td>20.39918</td>\n",
              "      <td>0.0</td>\n",
              "      <td>13.0</td>\n",
              "      <td>16.6</td>\n",
              "      <td>24.1</td>\n",
              "      <td>82.3</td>\n",
              "      <td>11.51725</td>\n",
              "    </tr>\n",
              "    <tr>\n",
              "      <th>windspeedmin</th>\n",
              "      <td>366.0</td>\n",
              "      <td>5867443.355464</td>\n",
              "      <td>0.0</td>\n",
              "      <td>0.0</td>\n",
              "      <td>0.0</td>\n",
              "      <td>3.6</td>\n",
              "      <td>214748364.7</td>\n",
              "      <td>35056446.033931</td>\n",
              "    </tr>\n",
              "    <tr>\n",
              "      <th>cumulative_precip</th>\n",
              "      <td>7357.0</td>\n",
              "      <td>18245.716216</td>\n",
              "      <td>0.0</td>\n",
              "      <td>8140.6</td>\n",
              "      <td>18391.9</td>\n",
              "      <td>27713.7</td>\n",
              "      <td>36688.1</td>\n",
              "      <td>10779.747612</td>\n",
              "    </tr>\n",
              "  </tbody>\n",
              "</table>\n",
              "</div>\n",
              "    <div class=\"colab-df-buttons\">\n",
              "\n",
              "  <div class=\"colab-df-container\">\n",
              "    <button class=\"colab-df-convert\" onclick=\"convertToInteractive('df-4c09f88d-2187-4cb2-9fb3-8b5e44dd55b5')\"\n",
              "            title=\"Convert this dataframe to an interactive table.\"\n",
              "            style=\"display:none;\">\n",
              "\n",
              "  <svg xmlns=\"http://www.w3.org/2000/svg\" height=\"24px\" viewBox=\"0 -960 960 960\">\n",
              "    <path d=\"M120-120v-720h720v720H120Zm60-500h600v-160H180v160Zm220 220h160v-160H400v160Zm0 220h160v-160H400v160ZM180-400h160v-160H180v160Zm440 0h160v-160H620v160ZM180-180h160v-160H180v160Zm440 0h160v-160H620v160Z\"/>\n",
              "  </svg>\n",
              "    </button>\n",
              "\n",
              "  <style>\n",
              "    .colab-df-container {\n",
              "      display:flex;\n",
              "      gap: 12px;\n",
              "    }\n",
              "\n",
              "    .colab-df-convert {\n",
              "      background-color: #E8F0FE;\n",
              "      border: none;\n",
              "      border-radius: 50%;\n",
              "      cursor: pointer;\n",
              "      display: none;\n",
              "      fill: #1967D2;\n",
              "      height: 32px;\n",
              "      padding: 0 0 0 0;\n",
              "      width: 32px;\n",
              "    }\n",
              "\n",
              "    .colab-df-convert:hover {\n",
              "      background-color: #E2EBFA;\n",
              "      box-shadow: 0px 1px 2px rgba(60, 64, 67, 0.3), 0px 1px 3px 1px rgba(60, 64, 67, 0.15);\n",
              "      fill: #174EA6;\n",
              "    }\n",
              "\n",
              "    .colab-df-buttons div {\n",
              "      margin-bottom: 4px;\n",
              "    }\n",
              "\n",
              "    [theme=dark] .colab-df-convert {\n",
              "      background-color: #3B4455;\n",
              "      fill: #D2E3FC;\n",
              "    }\n",
              "\n",
              "    [theme=dark] .colab-df-convert:hover {\n",
              "      background-color: #434B5C;\n",
              "      box-shadow: 0px 1px 3px 1px rgba(0, 0, 0, 0.15);\n",
              "      filter: drop-shadow(0px 1px 2px rgba(0, 0, 0, 0.3));\n",
              "      fill: #FFFFFF;\n",
              "    }\n",
              "  </style>\n",
              "\n",
              "    <script>\n",
              "      const buttonEl =\n",
              "        document.querySelector('#df-4c09f88d-2187-4cb2-9fb3-8b5e44dd55b5 button.colab-df-convert');\n",
              "      buttonEl.style.display =\n",
              "        google.colab.kernel.accessAllowed ? 'block' : 'none';\n",
              "\n",
              "      async function convertToInteractive(key) {\n",
              "        const element = document.querySelector('#df-4c09f88d-2187-4cb2-9fb3-8b5e44dd55b5');\n",
              "        const dataTable =\n",
              "          await google.colab.kernel.invokeFunction('convertToInteractive',\n",
              "                                                    [key], {});\n",
              "        if (!dataTable) return;\n",
              "\n",
              "        const docLinkHtml = 'Like what you see? Visit the ' +\n",
              "          '<a target=\"_blank\" href=https://colab.research.google.com/notebooks/data_table.ipynb>data table notebook</a>'\n",
              "          + ' to learn more about interactive tables.';\n",
              "        element.innerHTML = '';\n",
              "        dataTable['output_type'] = 'display_data';\n",
              "        await google.colab.output.renderOutput(dataTable, element);\n",
              "        const docLink = document.createElement('div');\n",
              "        docLink.innerHTML = docLinkHtml;\n",
              "        element.appendChild(docLink);\n",
              "      }\n",
              "    </script>\n",
              "  </div>\n",
              "\n",
              "\n",
              "<div id=\"df-15356491-607c-4e01-9bab-5b34fb6ed40d\">\n",
              "  <button class=\"colab-df-quickchart\" onclick=\"quickchart('df-15356491-607c-4e01-9bab-5b34fb6ed40d')\"\n",
              "            title=\"Suggest charts\"\n",
              "            style=\"display:none;\">\n",
              "\n",
              "<svg xmlns=\"http://www.w3.org/2000/svg\" height=\"24px\"viewBox=\"0 0 24 24\"\n",
              "     width=\"24px\">\n",
              "    <g>\n",
              "        <path d=\"M19 3H5c-1.1 0-2 .9-2 2v14c0 1.1.9 2 2 2h14c1.1 0 2-.9 2-2V5c0-1.1-.9-2-2-2zM9 17H7v-7h2v7zm4 0h-2V7h2v10zm4 0h-2v-4h2v4z\"/>\n",
              "    </g>\n",
              "</svg>\n",
              "  </button>\n",
              "\n",
              "<style>\n",
              "  .colab-df-quickchart {\n",
              "      --bg-color: #E8F0FE;\n",
              "      --fill-color: #1967D2;\n",
              "      --hover-bg-color: #E2EBFA;\n",
              "      --hover-fill-color: #174EA6;\n",
              "      --disabled-fill-color: #AAA;\n",
              "      --disabled-bg-color: #DDD;\n",
              "  }\n",
              "\n",
              "  [theme=dark] .colab-df-quickchart {\n",
              "      --bg-color: #3B4455;\n",
              "      --fill-color: #D2E3FC;\n",
              "      --hover-bg-color: #434B5C;\n",
              "      --hover-fill-color: #FFFFFF;\n",
              "      --disabled-bg-color: #3B4455;\n",
              "      --disabled-fill-color: #666;\n",
              "  }\n",
              "\n",
              "  .colab-df-quickchart {\n",
              "    background-color: var(--bg-color);\n",
              "    border: none;\n",
              "    border-radius: 50%;\n",
              "    cursor: pointer;\n",
              "    display: none;\n",
              "    fill: var(--fill-color);\n",
              "    height: 32px;\n",
              "    padding: 0;\n",
              "    width: 32px;\n",
              "  }\n",
              "\n",
              "  .colab-df-quickchart:hover {\n",
              "    background-color: var(--hover-bg-color);\n",
              "    box-shadow: 0 1px 2px rgba(60, 64, 67, 0.3), 0 1px 3px 1px rgba(60, 64, 67, 0.15);\n",
              "    fill: var(--button-hover-fill-color);\n",
              "  }\n",
              "\n",
              "  .colab-df-quickchart-complete:disabled,\n",
              "  .colab-df-quickchart-complete:disabled:hover {\n",
              "    background-color: var(--disabled-bg-color);\n",
              "    fill: var(--disabled-fill-color);\n",
              "    box-shadow: none;\n",
              "  }\n",
              "\n",
              "  .colab-df-spinner {\n",
              "    border: 2px solid var(--fill-color);\n",
              "    border-color: transparent;\n",
              "    border-bottom-color: var(--fill-color);\n",
              "    animation:\n",
              "      spin 1s steps(1) infinite;\n",
              "  }\n",
              "\n",
              "  @keyframes spin {\n",
              "    0% {\n",
              "      border-color: transparent;\n",
              "      border-bottom-color: var(--fill-color);\n",
              "      border-left-color: var(--fill-color);\n",
              "    }\n",
              "    20% {\n",
              "      border-color: transparent;\n",
              "      border-left-color: var(--fill-color);\n",
              "      border-top-color: var(--fill-color);\n",
              "    }\n",
              "    30% {\n",
              "      border-color: transparent;\n",
              "      border-left-color: var(--fill-color);\n",
              "      border-top-color: var(--fill-color);\n",
              "      border-right-color: var(--fill-color);\n",
              "    }\n",
              "    40% {\n",
              "      border-color: transparent;\n",
              "      border-right-color: var(--fill-color);\n",
              "      border-top-color: var(--fill-color);\n",
              "    }\n",
              "    60% {\n",
              "      border-color: transparent;\n",
              "      border-right-color: var(--fill-color);\n",
              "    }\n",
              "    80% {\n",
              "      border-color: transparent;\n",
              "      border-right-color: var(--fill-color);\n",
              "      border-bottom-color: var(--fill-color);\n",
              "    }\n",
              "    90% {\n",
              "      border-color: transparent;\n",
              "      border-bottom-color: var(--fill-color);\n",
              "    }\n",
              "  }\n",
              "</style>\n",
              "\n",
              "  <script>\n",
              "    async function quickchart(key) {\n",
              "      const quickchartButtonEl =\n",
              "        document.querySelector('#' + key + ' button');\n",
              "      quickchartButtonEl.disabled = true;  // To prevent multiple clicks.\n",
              "      quickchartButtonEl.classList.add('colab-df-spinner');\n",
              "      try {\n",
              "        const charts = await google.colab.kernel.invokeFunction(\n",
              "            'suggestCharts', [key], {});\n",
              "      } catch (error) {\n",
              "        console.error('Error during call to suggestCharts:', error);\n",
              "      }\n",
              "      quickchartButtonEl.classList.remove('colab-df-spinner');\n",
              "      quickchartButtonEl.classList.add('colab-df-quickchart-complete');\n",
              "    }\n",
              "    (() => {\n",
              "      let quickchartButtonEl =\n",
              "        document.querySelector('#df-15356491-607c-4e01-9bab-5b34fb6ed40d button');\n",
              "      quickchartButtonEl.style.display =\n",
              "        google.colab.kernel.accessAllowed ? 'block' : 'none';\n",
              "    })();\n",
              "  </script>\n",
              "</div>\n",
              "\n",
              "    </div>\n",
              "  </div>\n"
            ],
            "application/vnd.google.colaboratory.intrinsic+json": {
              "type": "dataframe",
              "summary": "{\n  \"name\": \"lagos\",\n  \"rows\": 27,\n  \"fields\": [\n    {\n      \"column\": \"count\",\n      \"properties\": {\n        \"dtype\": \"date\",\n        \"min\": 366.0,\n        \"max\": \"7357\",\n        \"num_unique_values\": 7,\n        \"samples\": [\n          \"7357\",\n          7021.0,\n          6991.0\n        ],\n        \"semantic_type\": \"\",\n        \"description\": \"\"\n      }\n    },\n    {\n      \"column\": \"mean\",\n      \"properties\": {\n        \"dtype\": \"date\",\n        \"min\": \"1970-01-01 00:00:00\",\n        \"max\": \"2014-06-08 00:00:00\",\n        \"num_unique_values\": 27,\n        \"samples\": [\n          82.73332858567156,\n          29.323892988929888,\n          4.986828870463504\n        ],\n        \"semantic_type\": \"\",\n        \"description\": \"\"\n      }\n    },\n    {\n      \"column\": \"min\",\n      \"properties\": {\n        \"dtype\": \"date\",\n        \"min\": \"1970-01-01 00:00:00\",\n        \"max\": \"2004-05-13 00:00:00\",\n        \"num_unique_values\": 10,\n        \"samples\": [\n          23.967013245976357,\n          21.4,\n          33.8\n        ],\n        \"semantic_type\": \"\",\n        \"description\": \"\"\n      }\n    },\n    {\n      \"column\": \"25%\",\n      \"properties\": {\n        \"dtype\": \"date\",\n        \"min\": \"1970-01-01 00:00:00\",\n        \"max\": \"2009-05-26 00:00:00\",\n        \"num_unique_values\": 22,\n        \"samples\": [\n          \"2009-05-26 00:00:00\",\n          51.2,\n          0.0\n        ],\n        \"semantic_type\": \"\",\n        \"description\": \"\"\n      }\n    },\n    {\n      \"column\": \"50%\",\n      \"properties\": {\n        \"dtype\": \"date\",\n        \"min\": \"1970-01-01 00:00:00\",\n        \"max\": \"2014-06-08 00:00:00\",\n        \"num_unique_values\": 23,\n        \"samples\": [\n          9.1,\n          0.0,\n          \"2014-06-08 00:00:00\"\n        ],\n        \"semantic_type\": \"\",\n        \"description\": \"\"\n      }\n    },\n    {\n      \"column\": \"75%\",\n      \"properties\": {\n        \"dtype\": \"date\",\n        \"min\": \"1970-01-01 00:00:00\",\n        \"max\": \"2019-06-21 00:00:00\",\n        \"num_unique_values\": 25,\n        \"samples\": [\n          1.8,\n          9.9,\n          \"2019-06-21 00:00:00\"\n        ],\n        \"semantic_type\": \"\",\n        \"description\": \"\"\n      }\n    },\n    {\n      \"column\": \"max\",\n      \"properties\": {\n        \"dtype\": \"date\",\n        \"min\": \"1970-01-01 00:00:00\",\n        \"max\": \"2024-07-03 00:00:00\",\n        \"num_unique_values\": 20,\n        \"samples\": [\n          \"2024-07-03 00:00:00\",\n          82.3,\n          10.0\n        ],\n        \"semantic_type\": \"\",\n        \"description\": \"\"\n      }\n    },\n    {\n      \"column\": \"std\",\n      \"properties\": {\n        \"dtype\": \"date\",\n        \"min\": 0.07797459181069104,\n        \"max\": 35056446.03393091,\n        \"num_unique_values\": 26,\n        \"samples\": [\n          18.41175488688931,\n          16.445770644722153,\n          2.5111144046740814\n        ],\n        \"semantic_type\": \"\",\n        \"description\": \"\"\n      }\n    }\n  ]\n}"
            }
          },
          "metadata": {},
          "execution_count": 37
        }
      ]
    },
    {
      "cell_type": "markdown",
      "source": [
        "Flood occurence"
      ],
      "metadata": {
        "id": "SokYDg8ifZt9"
      }
    },
    {
      "cell_type": "code",
      "source": [],
      "metadata": {
        "id": "QNTCEg0sfZLG"
      },
      "execution_count": 37,
      "outputs": []
    },
    {
      "cell_type": "markdown",
      "source": [
        "*3.1 Precipitation Patterns*"
      ],
      "metadata": {
        "id": "kV2jrg_aroYR"
      }
    },
    {
      "cell_type": "code",
      "source": [
        "plt.figure(figsize=(10, 6))\n",
        "sns.lineplot(x='datetime', y='precip', data=lagos, marker='o',linestyle='-', color='y')\n",
        "plt.xlabel('Date')\n",
        "plt.ylabel('Precipitation (mm)')\n",
        "plt.title('Precipitation in Lagos (2002-2024)')\n",
        "plt.show()"
      ],
      "metadata": {
        "id": "aKFDSqWuugE9",
        "colab": {
          "base_uri": "https://localhost:8080/",
          "height": 564
        },
        "outputId": "75fe0b17-c73c-40db-a213-3bef70f3c433"
      },
      "execution_count": 38,
      "outputs": [
        {
          "output_type": "display_data",
          "data": {
            "text/plain": [
              "<Figure size 1000x600 with 1 Axes>"
            ],
            "image/png": "[encoded data removed]"
          },
          "metadata": {}
        }
      ]
    },
    {
      "cell_type": "code",
      "source": [
        "# Create the scatter plot\n",
        "plt.figure(figsize=(10, 6))\n",
        "sns.scatterplot(x='datetime', y='precip', data=lagos, color='blue')\n",
        "plt.xlabel('Date')\n",
        "plt.ylabel('Precipitation (mm)')\n",
        "plt.title('Precipitation in Lagos (2002-2024)')\n",
        "plt.show()\n"
      ],
      "metadata": {
        "colab": {
          "base_uri": "https://localhost:8080/",
          "height": 564
        },
        "id": "CrzcD3k8P9j5",
        "outputId": "d1c106eb-34be-4db5-f855-1dd93bd4984a"
      },
      "execution_count": 39,
      "outputs": [
        {
          "output_type": "display_data",
          "data": {
            "text/plain": [
              "<Figure size 1000x600 with 1 Axes>"
            ],
            "image/png": "[encoded data removed]"
          },
          "metadata": {}
        }
      ]
    },
    {
      "cell_type": "markdown",
      "source": [
        "*3.2 Historical Flood Analysis*"
      ],
      "metadata": {
        "id": "wGHwsv1AsCC4"
      }
    },
    {
      "cell_type": "code",
      "source": [
        "# Create the scatter plot\n",
        "plt.figure(figsize=(10, 6))\n",
        "\n",
        "# Assuming 'lagos' DataFrame has a 'datetime' column representing dates,\n",
        "# and you want to count flood occurrences per year:\n",
        "flood_dates = lagos['datetime']\n",
        "\n",
        "plt.hist(flood_dates.dt.year, bins=range(2002, 2025), align='left', rwidth=0.8)\n",
        "plt.xlabel('Date')\n",
        "plt.ylabel('Flood occurence (mm)')\n",
        "plt.title('flood occurrence in Lagos (2002-2024)')\n",
        "plt.show()"
      ],
      "metadata": {
        "colab": {
          "base_uri": "https://localhost:8080/",
          "height": 564
        },
        "id": "ZlRn_-rWQ6u3",
        "outputId": "d52d8306-9fb2-43ff-b6ab-5514033f9a02"
      },
      "execution_count": 40,
      "outputs": [
        {
          "output_type": "display_data",
          "data": {
            "text/plain": [
              "<Figure size 1000x600 with 1 Axes>"
            ],
            "image/png": "[encoded data removed]"
          },
          "metadata": {}
        }
      ]
    },
    {
      "cell_type": "markdown",
      "source": [
        "*Seasonal variation*"
      ],
      "metadata": {
        "id": "5d9KPr5WWfvg"
      }
    },
    {
      "cell_type": "code",
      "source": [
        "# Plot seasonal variation\n",
        "# Calculate average monthly precipitation\n",
        "monthly_precip = lagos.groupby(lagos['datetime'].dt.month)['precip'].mean()\n",
        "\n",
        "# Plot seasonal variation\n",
        "plt.figure(figsize=(10, 6))\n",
        "monthly_precip.plot(kind='bar', color='skyblue')\n",
        "plt.xlabel('Month')\n",
        "plt.ylabel('Average Precipitation (mm)')\n",
        "plt.title('Average Monthly Precipitation in Lagos')\n",
        "plt.show()"
      ],
      "metadata": {
        "colab": {
          "base_uri": "https://localhost:8080/",
          "height": 568
        },
        "id": "MWcIOYFvWerK",
        "outputId": "2cd32c63-a56c-4cd7-e2e8-17e8442da3f8"
      },
      "execution_count": 41,
      "outputs": [
        {
          "output_type": "display_data",
          "data": {
            "text/plain": [
              "<Figure size 1000x600 with 1 Axes>"
            ],
            "image/png": "[encoded data removed]"
          },
          "metadata": {}
        }
      ]
    },
    {
      "cell_type": "markdown",
      "source": [
        "# **4. Model Development**"
      ],
      "metadata": {
        "id": "c9ZlBFWvClDk"
      }
    },
    {
      "cell_type": "markdown",
      "source": [
        "*4.1 Feature Selection*"
      ],
      "metadata": {
        "id": "WLLBH0mMYEtV"
      }
    },
    {
      "cell_type": "code",
      "source": [
        "# Feature selection\n",
        "features = lagos[['cumulative_precip','tempmax', 'tempmin','feelslikemax',\n",
        "       'feelslikemin','dew', 'humidity','windspeed', 'winddir','sealevelpressure', 'cloudcover']].shift(1).dropna()\n",
        "target = lagos['flood occurrence'][1:]"
      ],
      "metadata": {
        "id": "cshdEwORCme_"
      },
      "execution_count": 42,
      "outputs": []
    },
    {
      "cell_type": "code",
      "source": [
        "x = lagos[features.columns] # Select columns by name using .columns\n",
        "y = lagos[target.name] # Select column by name"
      ],
      "metadata": {
        "id": "ELgzs_P-JNei"
      },
      "execution_count": 43,
      "outputs": []
    },
    {
      "cell_type": "code",
      "source": [
        "# Print features\n",
        "x.head()"
      ],
      "metadata": {
        "colab": {
          "base_uri": "https://localhost:8080/",
          "height": 226
        },
        "id": "VQ6fbZxFdn6M",
        "outputId": "8069737d-a008-4ea2-d4ce-e843be8c39f4"
      },
      "execution_count": 44,
      "outputs": [
        {
          "output_type": "execute_result",
          "data": {
            "text/plain": [
              "   cumulative_precip  tempmax  tempmin  feelslikemax  feelslikemin   dew  \\\n",
              "0                0.0     31.7     28.2          38.9          32.6  24.9   \n",
              "1                0.0     26.6     25.7          26.6          25.7  25.9   \n",
              "2                0.0     25.1     25.1          25.1          25.1  25.1   \n",
              "3                0.0     22.9     22.9          22.9          22.9  22.2   \n",
              "4                0.0     31.4     25.1          38.7          25.1  25.5   \n",
              "\n",
              "   humidity  windspeed  winddir  sealevelpressure  cloudcover  \n",
              "0      74.7       20.5    128.2         23.967013        90.0  \n",
              "1      97.5       20.5    280.4         23.967013        87.5  \n",
              "2     100.0       16.6    180.0         23.967013        90.0  \n",
              "3      95.8       11.2    350.0         23.967013        90.0  \n",
              "4      84.2       31.3    242.3         23.967013        90.0  "
            ],
            "text/html": [
              "\n",
              "  <div id=\"df-1a4ce30c-e743-45c9-b779-f277aa6a7e7e\" class=\"colab-df-container\">\n",
              "    <div>\n",
              "<style scoped>\n",
              "    .dataframe tbody tr th:only-of-type {\n",
              "        vertical-align: middle;\n",
              "    }\n",
              "\n",
              "    .dataframe tbody tr th {\n",
              "        vertical-align: top;\n",
              "    }\n",
              "\n",
              "    .dataframe thead th {\n",
              "        text-align: right;\n",
              "    }\n",
              "</style>\n",
              "<table border=\"1\" class=\"dataframe\">\n",
              "  <thead>\n",
              "    <tr style=\"text-align: right;\">\n",
              "      <th></th>\n",
              "      <th>cumulative_precip</th>\n",
              "      <th>tempmax</th>\n",
              "      <th>tempmin</th>\n",
              "      <th>feelslikemax</th>\n",
              "      <th>feelslikemin</th>\n",
              "      <th>dew</th>\n",
              "      <th>humidity</th>\n",
              "      <th>windspeed</th>\n",
              "      <th>winddir</th>\n",
              "      <th>sealevelpressure</th>\n",
              "      <th>cloudcover</th>\n",
              "    </tr>\n",
              "  </thead>\n",
              "  <tbody>\n",
              "    <tr>\n",
              "      <th>0</th>\n",
              "      <td>0.0</td>\n",
              "      <td>31.7</td>\n",
              "      <td>28.2</td>\n",
              "      <td>38.9</td>\n",
              "      <td>32.6</td>\n",
              "      <td>24.9</td>\n",
              "      <td>74.7</td>\n",
              "      <td>20.5</td>\n",
              "      <td>128.2</td>\n",
              "      <td>23.967013</td>\n",
              "      <td>90.0</td>\n",
              "    </tr>\n",
              "    <tr>\n",
              "      <th>1</th>\n",
              "      <td>0.0</td>\n",
              "      <td>26.6</td>\n",
              "      <td>25.7</td>\n",
              "      <td>26.6</td>\n",
              "      <td>25.7</td>\n",
              "      <td>25.9</td>\n",
              "      <td>97.5</td>\n",
              "      <td>20.5</td>\n",
              "      <td>280.4</td>\n",
              "      <td>23.967013</td>\n",
              "      <td>87.5</td>\n",
              "    </tr>\n",
              "    <tr>\n",
              "      <th>2</th>\n",
              "      <td>0.0</td>\n",
              "      <td>25.1</td>\n",
              "      <td>25.1</td>\n",
              "      <td>25.1</td>\n",
              "      <td>25.1</td>\n",
              "      <td>25.1</td>\n",
              "      <td>100.0</td>\n",
              "      <td>16.6</td>\n",
              "      <td>180.0</td>\n",
              "      <td>23.967013</td>\n",
              "      <td>90.0</td>\n",
              "    </tr>\n",
              "    <tr>\n",
              "      <th>3</th>\n",
              "      <td>0.0</td>\n",
              "      <td>22.9</td>\n",
              "      <td>22.9</td>\n",
              "      <td>22.9</td>\n",
              "      <td>22.9</td>\n",
              "      <td>22.2</td>\n",
              "      <td>95.8</td>\n",
              "      <td>11.2</td>\n",
              "      <td>350.0</td>\n",
              "      <td>23.967013</td>\n",
              "      <td>90.0</td>\n",
              "    </tr>\n",
              "    <tr>\n",
              "      <th>4</th>\n",
              "      <td>0.0</td>\n",
              "      <td>31.4</td>\n",
              "      <td>25.1</td>\n",
              "      <td>38.7</td>\n",
              "      <td>25.1</td>\n",
              "      <td>25.5</td>\n",
              "      <td>84.2</td>\n",
              "      <td>31.3</td>\n",
              "      <td>242.3</td>\n",
              "      <td>23.967013</td>\n",
              "      <td>90.0</td>\n",
              "    </tr>\n",
              "  </tbody>\n",
              "</table>\n",
              "</div>\n",
              "    <div class=\"colab-df-buttons\">\n",
              "\n",
              "  <div class=\"colab-df-container\">\n",
              "    <button class=\"colab-df-convert\" onclick=\"convertToInteractive('df-1a4ce30c-e743-45c9-b779-f277aa6a7e7e')\"\n",
              "            title=\"Convert this dataframe to an interactive table.\"\n",
              "            style=\"display:none;\">\n",
              "\n",
              "  <svg xmlns=\"http://www.w3.org/2000/svg\" height=\"24px\" viewBox=\"0 -960 960 960\">\n",
              "    <path d=\"M120-120v-720h720v720H120Zm60-500h600v-160H180v160Zm220 220h160v-160H400v160Zm0 220h160v-160H400v160ZM180-400h160v-160H180v160Zm440 0h160v-160H620v160ZM180-180h160v-160H180v160Zm440 0h160v-160H620v160Z\"/>\n",
              "  </svg>\n",
              "    </button>\n",
              "\n",
              "  <style>\n",
              "    .colab-df-container {\n",
              "      display:flex;\n",
              "      gap: 12px;\n",
              "    }\n",
              "\n",
              "    .colab-df-convert {\n",
              "      background-color: #E8F0FE;\n",
              "      border: none;\n",
              "      border-radius: 50%;\n",
              "      cursor: pointer;\n",
              "      display: none;\n",
              "      fill: #1967D2;\n",
              "      height: 32px;\n",
              "      padding: 0 0 0 0;\n",
              "      width: 32px;\n",
              "    }\n",
              "\n",
              "    .colab-df-convert:hover {\n",
              "      background-color: #E2EBFA;\n",
              "      box-shadow: 0px 1px 2px rgba(60, 64, 67, 0.3), 0px 1px 3px 1px rgba(60, 64, 67, 0.15);\n",
              "      fill: #174EA6;\n",
              "    }\n",
              "\n",
              "    .colab-df-buttons div {\n",
              "      margin-bottom: 4px;\n",
              "    }\n",
              "\n",
              "    [theme=dark] .colab-df-convert {\n",
              "      background-color: #3B4455;\n",
              "      fill: #D2E3FC;\n",
              "    }\n",
              "\n",
              "    [theme=dark] .colab-df-convert:hover {\n",
              "      background-color: #434B5C;\n",
              "      box-shadow: 0px 1px 3px 1px rgba(0, 0, 0, 0.15);\n",
              "      filter: drop-shadow(0px 1px 2px rgba(0, 0, 0, 0.3));\n",
              "      fill: #FFFFFF;\n",
              "    }\n",
              "  </style>\n",
              "\n",
              "    <script>\n",
              "      const buttonEl =\n",
              "        document.querySelector('#df-1a4ce30c-e743-45c9-b779-f277aa6a7e7e button.colab-df-convert');\n",
              "      buttonEl.style.display =\n",
              "        google.colab.kernel.accessAllowed ? 'block' : 'none';\n",
              "\n",
              "      async function convertToInteractive(key) {\n",
              "        const element = document.querySelector('#df-1a4ce30c-e743-45c9-b779-f277aa6a7e7e');\n",
              "        const dataTable =\n",
              "          await google.colab.kernel.invokeFunction('convertToInteractive',\n",
              "                                                    [key], {});\n",
              "        if (!dataTable) return;\n",
              "\n",
              "        const docLinkHtml = 'Like what you see? Visit the ' +\n",
              "          '<a target=\"_blank\" href=https://colab.research.google.com/notebooks/data_table.ipynb>data table notebook</a>'\n",
              "          + ' to learn more about interactive tables.';\n",
              "        element.innerHTML = '';\n",
              "        dataTable['output_type'] = 'display_data';\n",
              "        await google.colab.output.renderOutput(dataTable, element);\n",
              "        const docLink = document.createElement('div');\n",
              "        docLink.innerHTML = docLinkHtml;\n",
              "        element.appendChild(docLink);\n",
              "      }\n",
              "    </script>\n",
              "  </div>\n",
              "\n",
              "\n",
              "<div id=\"df-7271d2fa-7015-41a9-9fb6-f8c2828d452e\">\n",
              "  <button class=\"colab-df-quickchart\" onclick=\"quickchart('df-7271d2fa-7015-41a9-9fb6-f8c2828d452e')\"\n",
              "            title=\"Suggest charts\"\n",
              "            style=\"display:none;\">\n",
              "\n",
              "<svg xmlns=\"http://www.w3.org/2000/svg\" height=\"24px\"viewBox=\"0 0 24 24\"\n",
              "     width=\"24px\">\n",
              "    <g>\n",
              "        <path d=\"M19 3H5c-1.1 0-2 .9-2 2v14c0 1.1.9 2 2 2h14c1.1 0 2-.9 2-2V5c0-1.1-.9-2-2-2zM9 17H7v-7h2v7zm4 0h-2V7h2v10zm4 0h-2v-4h2v4z\"/>\n",
              "    </g>\n",
              "</svg>\n",
              "  </button>\n",
              "\n",
              "<style>\n",
              "  .colab-df-quickchart {\n",
              "      --bg-color: #E8F0FE;\n",
              "      --fill-color: #1967D2;\n",
              "      --hover-bg-color: #E2EBFA;\n",
              "      --hover-fill-color: #174EA6;\n",
              "      --disabled-fill-color: #AAA;\n",
              "      --disabled-bg-color: #DDD;\n",
              "  }\n",
              "\n",
              "  [theme=dark] .colab-df-quickchart {\n",
              "      --bg-color: #3B4455;\n",
              "      --fill-color: #D2E3FC;\n",
              "      --hover-bg-color: #434B5C;\n",
              "      --hover-fill-color: #FFFFFF;\n",
              "      --disabled-bg-color: #3B4455;\n",
              "      --disabled-fill-color: #666;\n",
              "  }\n",
              "\n",
              "  .colab-df-quickchart {\n",
              "    background-color: var(--bg-color);\n",
              "    border: none;\n",
              "    border-radius: 50%;\n",
              "    cursor: pointer;\n",
              "    display: none;\n",
              "    fill: var(--fill-color);\n",
              "    height: 32px;\n",
              "    padding: 0;\n",
              "    width: 32px;\n",
              "  }\n",
              "\n",
              "  .colab-df-quickchart:hover {\n",
              "    background-color: var(--hover-bg-color);\n",
              "    box-shadow: 0 1px 2px rgba(60, 64, 67, 0.3), 0 1px 3px 1px rgba(60, 64, 67, 0.15);\n",
              "    fill: var(--button-hover-fill-color);\n",
              "  }\n",
              "\n",
              "  .colab-df-quickchart-complete:disabled,\n",
              "  .colab-df-quickchart-complete:disabled:hover {\n",
              "    background-color: var(--disabled-bg-color);\n",
              "    fill: var(--disabled-fill-color);\n",
              "    box-shadow: none;\n",
              "  }\n",
              "\n",
              "  .colab-df-spinner {\n",
              "    border: 2px solid var(--fill-color);\n",
              "    border-color: transparent;\n",
              "    border-bottom-color: var(--fill-color);\n",
              "    animation:\n",
              "      spin 1s steps(1) infinite;\n",
              "  }\n",
              "\n",
              "  @keyframes spin {\n",
              "    0% {\n",
              "      border-color: transparent;\n",
              "      border-bottom-color: var(--fill-color);\n",
              "      border-left-color: var(--fill-color);\n",
              "    }\n",
              "    20% {\n",
              "      border-color: transparent;\n",
              "      border-left-color: var(--fill-color);\n",
              "      border-top-color: var(--fill-color);\n",
              "    }\n",
              "    30% {\n",
              "      border-color: transparent;\n",
              "      border-left-color: var(--fill-color);\n",
              "      border-top-color: var(--fill-color);\n",
              "      border-right-color: var(--fill-color);\n",
              "    }\n",
              "    40% {\n",
              "      border-color: transparent;\n",
              "      border-right-color: var(--fill-color);\n",
              "      border-top-color: var(--fill-color);\n",
              "    }\n",
              "    60% {\n",
              "      border-color: transparent;\n",
              "      border-right-color: var(--fill-color);\n",
              "    }\n",
              "    80% {\n",
              "      border-color: transparent;\n",
              "      border-right-color: var(--fill-color);\n",
              "      border-bottom-color: var(--fill-color);\n",
              "    }\n",
              "    90% {\n",
              "      border-color: transparent;\n",
              "      border-bottom-color: var(--fill-color);\n",
              "    }\n",
              "  }\n",
              "</style>\n",
              "\n",
              "  <script>\n",
              "    async function quickchart(key) {\n",
              "      const quickchartButtonEl =\n",
              "        document.querySelector('#' + key + ' button');\n",
              "      quickchartButtonEl.disabled = true;  // To prevent multiple clicks.\n",
              "      quickchartButtonEl.classList.add('colab-df-spinner');\n",
              "      try {\n",
              "        const charts = await google.colab.kernel.invokeFunction(\n",
              "            'suggestCharts', [key], {});\n",
              "      } catch (error) {\n",
              "        console.error('Error during call to suggestCharts:', error);\n",
              "      }\n",
              "      quickchartButtonEl.classList.remove('colab-df-spinner');\n",
              "      quickchartButtonEl.classList.add('colab-df-quickchart-complete');\n",
              "    }\n",
              "    (() => {\n",
              "      let quickchartButtonEl =\n",
              "        document.querySelector('#df-7271d2fa-7015-41a9-9fb6-f8c2828d452e button');\n",
              "      quickchartButtonEl.style.display =\n",
              "        google.colab.kernel.accessAllowed ? 'block' : 'none';\n",
              "    })();\n",
              "  </script>\n",
              "</div>\n",
              "\n",
              "    </div>\n",
              "  </div>\n"
            ],
            "application/vnd.google.colaboratory.intrinsic+json": {
              "type": "dataframe",
              "variable_name": "x",
              "summary": "{\n  \"name\": \"x\",\n  \"rows\": 7357,\n  \"fields\": [\n    {\n      \"column\": \"cumulative_precip\",\n      \"properties\": {\n        \"dtype\": \"number\",\n        \"std\": 10779.74761194887,\n        \"min\": 0.0,\n        \"max\": 36688.09999999979,\n        \"num_unique_values\": 3140,\n        \"samples\": [\n          34098.899999999805,\n          35144.79999999981,\n          17272.000000000007\n        ],\n        \"semantic_type\": \"\",\n        \"description\": \"\"\n      }\n    },\n    {\n      \"column\": \"tempmax\",\n      \"properties\": {\n        \"dtype\": \"number\",\n        \"std\": 2.5111144046740814,\n        \"min\": 21.4,\n        \"max\": 56.0,\n        \"num_unique_values\": 137,\n        \"samples\": [\n          28.3,\n          30.0,\n          26.1\n        ],\n        \"semantic_type\": \"\",\n        \"description\": \"\"\n      }\n    },\n    {\n      \"column\": \"tempmin\",\n      \"properties\": {\n        \"dtype\": \"number\",\n        \"std\": 1.84592511134295,\n        \"min\": 10.0,\n        \"max\": 34.6,\n        \"num_unique_values\": 139,\n        \"samples\": [\n          14.9,\n          32.7,\n          21.9\n        ],\n        \"semantic_type\": \"\",\n        \"description\": \"\"\n      }\n    },\n    {\n      \"column\": \"feelslikemax\",\n      \"properties\": {\n        \"dtype\": \"number\",\n        \"std\": 4.488366250568692,\n        \"min\": 21.4,\n        \"max\": 56.0,\n        \"num_unique_values\": 232,\n        \"samples\": [\n          47.3,\n          33.8,\n          37.5\n        ],\n        \"semantic_type\": \"\",\n        \"description\": \"\"\n      }\n    },\n    {\n      \"column\": \"feelslikemin\",\n      \"properties\": {\n        \"dtype\": \"number\",\n        \"std\": 2.9068877854590283,\n        \"min\": 6.8,\n        \"max\": 45.1,\n        \"num_unique_values\": 196,\n        \"samples\": [\n          22.5,\n          29.7,\n          21.1\n        ],\n        \"semantic_type\": \"\",\n        \"description\": \"\"\n      }\n    },\n    {\n      \"column\": \"dew\",\n      \"properties\": {\n        \"dtype\": \"number\",\n        \"std\": 1.8902895829523525,\n        \"min\": 8.2,\n        \"max\": 66.5,\n        \"num_unique_values\": 163,\n        \"samples\": [\n          18.8,\n          19.5,\n          17.5\n        ],\n        \"semantic_type\": \"\",\n        \"description\": \"\"\n      }\n    },\n    {\n      \"column\": \"humidity\",\n      \"properties\": {\n        \"dtype\": \"number\",\n        \"std\": 7.067742023625904,\n        \"min\": 33.8,\n        \"max\": 100.0,\n        \"num_unique_values\": 466,\n        \"samples\": [\n          80.6,\n          79.3,\n          94.9\n        ],\n        \"semantic_type\": \"\",\n        \"description\": \"\"\n      }\n    },\n    {\n      \"column\": \"windspeed\",\n      \"properties\": {\n        \"dtype\": \"number\",\n        \"std\": 12.019376203643388,\n        \"min\": 0.0,\n        \"max\": 277.9,\n        \"num_unique_values\": 296,\n        \"samples\": [\n          111.2,\n          16.9,\n          24.0\n        ],\n        \"semantic_type\": \"\",\n        \"description\": \"\"\n      }\n    },\n    {\n      \"column\": \"winddir\",\n      \"properties\": {\n        \"dtype\": \"number\",\n        \"std\": 45.598043630041786,\n        \"min\": 1.0,\n        \"max\": 360.0,\n        \"num_unique_values\": 1611,\n        \"samples\": [\n          224.4,\n          215.0,\n          214.5\n        ],\n        \"semantic_type\": \"\",\n        \"description\": \"\"\n      }\n    },\n    {\n      \"column\": \"sealevelpressure\",\n      \"properties\": {\n        \"dtype\": \"number\",\n        \"std\": 253.48316751220767,\n        \"min\": 23.967013245976357,\n        \"max\": 1017.3,\n        \"num_unique_values\": 110,\n        \"samples\": [\n          1012.8,\n          1013.7,\n          1013.4\n        ],\n        \"semantic_type\": \"\",\n        \"description\": \"\"\n      }\n    },\n    {\n      \"column\": \"cloudcover\",\n      \"properties\": {\n        \"dtype\": \"number\",\n        \"std\": 16.445770644722153,\n        \"min\": 0.0,\n        \"max\": 100.0,\n        \"num_unique_values\": 764,\n        \"samples\": [\n          47.6,\n          24.5,\n          35.2\n        ],\n        \"semantic_type\": \"\",\n        \"description\": \"\"\n      }\n    }\n  ]\n}"
            }
          },
          "metadata": {},
          "execution_count": 44
        }
      ]
    },
    {
      "cell_type": "code",
      "source": [
        "# Check x variables for null values\n",
        "x.isna().sum()"
      ],
      "metadata": {
        "colab": {
          "base_uri": "https://localhost:8080/"
        },
        "id": "MmHLsEdP8LW4",
        "outputId": "2799027e-71cd-4815-92ad-a6ac3cd2e85e"
      },
      "execution_count": 45,
      "outputs": [
        {
          "output_type": "execute_result",
          "data": {
            "text/plain": [
              "cumulative_precip    0\n",
              "tempmax              0\n",
              "tempmin              0\n",
              "feelslikemax         0\n",
              "feelslikemin         0\n",
              "dew                  0\n",
              "humidity             0\n",
              "windspeed            0\n",
              "winddir              0\n",
              "sealevelpressure     0\n",
              "cloudcover           0\n",
              "dtype: int64"
            ]
          },
          "metadata": {},
          "execution_count": 45
        }
      ]
    },
    {
      "cell_type": "code",
      "source": [],
      "metadata": {
        "id": "CfsJGAv08YJh"
      },
      "execution_count": 45,
      "outputs": []
    },
    {
      "cell_type": "code",
      "source": [
        "# Print target\n",
        "y.head()"
      ],
      "metadata": {
        "colab": {
          "base_uri": "https://localhost:8080/"
        },
        "id": "GSvy8brQdpuQ",
        "outputId": "c6432e3a-a448-47fe-eb28-8312e5458db2"
      },
      "execution_count": 46,
      "outputs": [
        {
          "output_type": "execute_result",
          "data": {
            "text/plain": [
              "0    0\n",
              "1    0\n",
              "2    0\n",
              "3    0\n",
              "4    0\n",
              "Name: flood occurrence, dtype: int64"
            ]
          },
          "metadata": {},
          "execution_count": 46
        }
      ]
    },
    {
      "cell_type": "markdown",
      "source": [
        "*4.2 Model Training*"
      ],
      "metadata": {
        "id": "VCe8thQUcX2D"
      }
    },
    {
      "cell_type": "code",
      "source": [
        "# Create an instance of the OneHotEncoder\n",
        "#encoder = OneHotEncoder()\n",
        "#encoder"
      ],
      "metadata": {
        "id": "Wq1B36VVWYEc"
      },
      "execution_count": 47,
      "outputs": []
    },
    {
      "cell_type": "code",
      "source": [
        "# Calling the machine learning model to be used\n",
        "model = LogisticRegression()\n",
        "model"
      ],
      "metadata": {
        "colab": {
          "base_uri": "https://localhost:8080/",
          "height": 74
        },
        "id": "mSQudMu7VItI",
        "outputId": "4e283b19-7978-4399-8d91-1f26d7f55213"
      },
      "execution_count": 48,
      "outputs": [
        {
          "output_type": "execute_result",
          "data": {
            "text/plain": [
              "LogisticRegression()"
            ],
            "text/html": [
              "<style>#sk-container-id-1 {color: black;background-color: white;}#sk-container-id-1 pre{padding: 0;}#sk-container-id-1 div.sk-toggleable {background-color: white;}#sk-container-id-1 label.sk-toggleable__label {cursor: pointer;display: block;width: 100%;margin-bottom: 0;padding: 0.3em;box-sizing: border-box;text-align: center;}#sk-container-id-1 label.sk-toggleable__label-arrow:before {content: \"▸\";float: left;margin-right: 0.25em;color: #696969;}#sk-container-id-1 label.sk-toggleable__label-arrow:hover:before {color: black;}#sk-container-id-1 div.sk-estimator:hover label.sk-toggleable__label-arrow:before {color: black;}#sk-container-id-1 div.sk-toggleable__content {max-height: 0;max-width: 0;overflow: hidden;text-align: left;background-color: #f0f8ff;}#sk-container-id-1 div.sk-toggleable__content pre {margin: 0.2em;color: black;border-radius: 0.25em;background-color: #f0f8ff;}#sk-container-id-1 input.sk-toggleable__control:checked~div.sk-toggleable__content {max-height: 200px;max-width: 100%;overflow: auto;}#sk-container-id-1 input.sk-toggleable__control:checked~label.sk-toggleable__label-arrow:before {content: \"▾\";}#sk-container-id-1 div.sk-estimator input.sk-toggleable__control:checked~label.sk-toggleable__label {background-color: #d4ebff;}#sk-container-id-1 div.sk-label input.sk-toggleable__control:checked~label.sk-toggleable__label {background-color: #d4ebff;}#sk-container-id-1 input.sk-hidden--visually {border: 0;clip: rect(1px 1px 1px 1px);clip: rect(1px, 1px, 1px, 1px);height: 1px;margin: -1px;overflow: hidden;padding: 0;position: absolute;width: 1px;}#sk-container-id-1 div.sk-estimator {font-family: monospace;background-color: #f0f8ff;border: 1px dotted black;border-radius: 0.25em;box-sizing: border-box;margin-bottom: 0.5em;}#sk-container-id-1 div.sk-estimator:hover {background-color: #d4ebff;}#sk-container-id-1 div.sk-parallel-item::after {content: \"\";width: 100%;border-bottom: 1px solid gray;flex-grow: 1;}#sk-container-id-1 div.sk-label:hover label.sk-toggleable__label {background-color: #d4ebff;}#sk-container-id-1 div.sk-serial::before {content: \"\";position: absolute;border-left: 1px solid gray;box-sizing: border-box;top: 0;bottom: 0;left: 50%;z-index: 0;}#sk-container-id-1 div.sk-serial {display: flex;flex-direction: column;align-items: center;background-color: white;padding-right: 0.2em;padding-left: 0.2em;position: relative;}#sk-container-id-1 div.sk-item {position: relative;z-index: 1;}#sk-container-id-1 div.sk-parallel {display: flex;align-items: stretch;justify-content: center;background-color: white;position: relative;}#sk-container-id-1 div.sk-item::before, #sk-container-id-1 div.sk-parallel-item::before {content: \"\";position: absolute;border-left: 1px solid gray;box-sizing: border-box;top: 0;bottom: 0;left: 50%;z-index: -1;}#sk-container-id-1 div.sk-parallel-item {display: flex;flex-direction: column;z-index: 1;position: relative;background-color: white;}#sk-container-id-1 div.sk-parallel-item:first-child::after {align-self: flex-end;width: 50%;}#sk-container-id-1 div.sk-parallel-item:last-child::after {align-self: flex-start;width: 50%;}#sk-container-id-1 div.sk-parallel-item:only-child::after {width: 0;}#sk-container-id-1 div.sk-dashed-wrapped {border: 1px dashed gray;margin: 0 0.4em 0.5em 0.4em;box-sizing: border-box;padding-bottom: 0.4em;background-color: white;}#sk-container-id-1 div.sk-label label {font-family: monospace;font-weight: bold;display: inline-block;line-height: 1.2em;}#sk-container-id-1 div.sk-label-container {text-align: center;}#sk-container-id-1 div.sk-container {/* jupyter's `normalize.less` sets `[hidden] { display: none; }` but bootstrap.min.css set `[hidden] { display: none !important; }` so we also need the `!important` here to be able to override the default hidden behavior on the sphinx rendered scikit-learn.org. See: https://github.com/scikit-learn/scikit-learn/issues/21755 */display: inline-block !important;position: relative;}#sk-container-id-1 div.sk-text-repr-fallback {display: none;}</style><div id=\"sk-container-id-1\" class=\"sk-top-container\"><div class=\"sk-text-repr-fallback\"><pre>LogisticRegression()</pre><b>In a Jupyter environment, please rerun this cell to show the HTML representation or trust the notebook. <br />On GitHub, the HTML representation is unable to render, please try loading this page with nbviewer.org.</b></div><div class=\"sk-container\" hidden><div class=\"sk-item\"><div class=\"sk-estimator sk-toggleable\"><input class=\"sk-toggleable__control sk-hidden--visually\" id=\"sk-estimator-id-1\" type=\"checkbox\" checked><label for=\"sk-estimator-id-1\" class=\"sk-toggleable__label sk-toggleable__label-arrow\">LogisticRegression</label><div class=\"sk-toggleable__content\"><pre>LogisticRegression()</pre></div></div></div></div></div>"
            ]
          },
          "metadata": {},
          "execution_count": 48
        }
      ]
    },
    {
      "cell_type": "code",
      "source": [
        "# Model fitting\n",
        "reg = model.fit(x,y)\n",
        "reg"
      ],
      "metadata": {
        "colab": {
          "base_uri": "https://localhost:8080/",
          "height": 74
        },
        "id": "efXdrQhPVWf3",
        "outputId": "1093f881-90f8-4102-f111-087cbbb4b16e"
      },
      "execution_count": 49,
      "outputs": [
        {
          "output_type": "execute_result",
          "data": {
            "text/plain": [
              "LogisticRegression()"
            ],
            "text/html": [
              "<style>#sk-container-id-2 {color: black;background-color: white;}#sk-container-id-2 pre{padding: 0;}#sk-container-id-2 div.sk-toggleable {background-color: white;}#sk-container-id-2 label.sk-toggleable__label {cursor: pointer;display: block;width: 100%;margin-bottom: 0;padding: 0.3em;box-sizing: border-box;text-align: center;}#sk-container-id-2 label.sk-toggleable__label-arrow:before {content: \"▸\";float: left;margin-right: 0.25em;color: #696969;}#sk-container-id-2 label.sk-toggleable__label-arrow:hover:before {color: black;}#sk-container-id-2 div.sk-estimator:hover label.sk-toggleable__label-arrow:before {color: black;}#sk-container-id-2 div.sk-toggleable__content {max-height: 0;max-width: 0;overflow: hidden;text-align: left;background-color: #f0f8ff;}#sk-container-id-2 div.sk-toggleable__content pre {margin: 0.2em;color: black;border-radius: 0.25em;background-color: #f0f8ff;}#sk-container-id-2 input.sk-toggleable__control:checked~div.sk-toggleable__content {max-height: 200px;max-width: 100%;overflow: auto;}#sk-container-id-2 input.sk-toggleable__control:checked~label.sk-toggleable__label-arrow:before {content: \"▾\";}#sk-container-id-2 div.sk-estimator input.sk-toggleable__control:checked~label.sk-toggleable__label {background-color: #d4ebff;}#sk-container-id-2 div.sk-label input.sk-toggleable__control:checked~label.sk-toggleable__label {background-color: #d4ebff;}#sk-container-id-2 input.sk-hidden--visually {border: 0;clip: rect(1px 1px 1px 1px);clip: rect(1px, 1px, 1px, 1px);height: 1px;margin: -1px;overflow: hidden;padding: 0;position: absolute;width: 1px;}#sk-container-id-2 div.sk-estimator {font-family: monospace;background-color: #f0f8ff;border: 1px dotted black;border-radius: 0.25em;box-sizing: border-box;margin-bottom: 0.5em;}#sk-container-id-2 div.sk-estimator:hover {background-color: #d4ebff;}#sk-container-id-2 div.sk-parallel-item::after {content: \"\";width: 100%;border-bottom: 1px solid gray;flex-grow: 1;}#sk-container-id-2 div.sk-label:hover label.sk-toggleable__label {background-color: #d4ebff;}#sk-container-id-2 div.sk-serial::before {content: \"\";position: absolute;border-left: 1px solid gray;box-sizing: border-box;top: 0;bottom: 0;left: 50%;z-index: 0;}#sk-container-id-2 div.sk-serial {display: flex;flex-direction: column;align-items: center;background-color: white;padding-right: 0.2em;padding-left: 0.2em;position: relative;}#sk-container-id-2 div.sk-item {position: relative;z-index: 1;}#sk-container-id-2 div.sk-parallel {display: flex;align-items: stretch;justify-content: center;background-color: white;position: relative;}#sk-container-id-2 div.sk-item::before, #sk-container-id-2 div.sk-parallel-item::before {content: \"\";position: absolute;border-left: 1px solid gray;box-sizing: border-box;top: 0;bottom: 0;left: 50%;z-index: -1;}#sk-container-id-2 div.sk-parallel-item {display: flex;flex-direction: column;z-index: 1;position: relative;background-color: white;}#sk-container-id-2 div.sk-parallel-item:first-child::after {align-self: flex-end;width: 50%;}#sk-container-id-2 div.sk-parallel-item:last-child::after {align-self: flex-start;width: 50%;}#sk-container-id-2 div.sk-parallel-item:only-child::after {width: 0;}#sk-container-id-2 div.sk-dashed-wrapped {border: 1px dashed gray;margin: 0 0.4em 0.5em 0.4em;box-sizing: border-box;padding-bottom: 0.4em;background-color: white;}#sk-container-id-2 div.sk-label label {font-family: monospace;font-weight: bold;display: inline-block;line-height: 1.2em;}#sk-container-id-2 div.sk-label-container {text-align: center;}#sk-container-id-2 div.sk-container {/* jupyter's `normalize.less` sets `[hidden] { display: none; }` but bootstrap.min.css set `[hidden] { display: none !important; }` so we also need the `!important` here to be able to override the default hidden behavior on the sphinx rendered scikit-learn.org. See: https://github.com/scikit-learn/scikit-learn/issues/21755 */display: inline-block !important;position: relative;}#sk-container-id-2 div.sk-text-repr-fallback {display: none;}</style><div id=\"sk-container-id-2\" class=\"sk-top-container\"><div class=\"sk-text-repr-fallback\"><pre>LogisticRegression()</pre><b>In a Jupyter environment, please rerun this cell to show the HTML representation or trust the notebook. <br />On GitHub, the HTML representation is unable to render, please try loading this page with nbviewer.org.</b></div><div class=\"sk-container\" hidden><div class=\"sk-item\"><div class=\"sk-estimator sk-toggleable\"><input class=\"sk-toggleable__control sk-hidden--visually\" id=\"sk-estimator-id-2\" type=\"checkbox\" checked><label for=\"sk-estimator-id-2\" class=\"sk-toggleable__label sk-toggleable__label-arrow\">LogisticRegression</label><div class=\"sk-toggleable__content\"><pre>LogisticRegression()</pre></div></div></div></div></div>"
            ]
          },
          "metadata": {},
          "execution_count": 49
        }
      ]
    },
    {
      "cell_type": "code",
      "source": [
        "model.score(x,y)"
      ],
      "metadata": {
        "colab": {
          "base_uri": "https://localhost:8080/"
        },
        "id": "3eFMjAlxaxt2",
        "outputId": "5a3f3766-103e-4f95-d384-07314ccba99b"
      },
      "execution_count": 50,
      "outputs": [
        {
          "output_type": "execute_result",
          "data": {
            "text/plain": [
              "0.9938833763762404"
            ]
          },
          "metadata": {},
          "execution_count": 50
        }
      ]
    },
    {
      "cell_type": "code",
      "source": [
        "# Ensure features and target have the same length\n",
        "features = features.iloc[:len(target), :]  # Adjust features to match target length\n",
        "\n",
        "# Train-test split\n",
        "x_train, x_test, y_train, y_test = train_test_split(x, y, test_size=0.2, random_state=42)\n",
        "x_test, y_test, x_train, y_train"
      ],
      "metadata": {
        "colab": {
          "base_uri": "https://localhost:8080/"
        },
        "id": "05vu64lxefiJ",
        "outputId": "5d32a41a-907f-494a-87cb-944d032344ca"
      },
      "execution_count": 51,
      "outputs": [
        {
          "output_type": "execute_result",
          "data": {
            "text/plain": [
              "(      cumulative_precip    tempmax    tempmin  feelslikemax  feelslikemin  \\\n",
              " 1893             8909.6  31.224028  24.430508       37.1382     24.906908   \n",
              " 4384            21875.9  33.000000  26.000000       42.1000     26.000000   \n",
              " 6820            33898.4  33.900000  24.000000       39.0000     24.000000   \n",
              " 5905            29993.2  29.100000  23.700000       33.2000     23.700000   \n",
              " 1669             7907.2  30.100000  23.100000       34.3000     23.100000   \n",
              " ...                 ...        ...        ...           ...           ...   \n",
              " 2699            12819.2  26.600000  23.000000       26.6000     23.000000   \n",
              " 6983            34892.7  30.000000  22.900000       34.9000     22.900000   \n",
              " 3362            16715.7  28.100000  24.000000       32.8000     24.000000   \n",
              " 6830            33898.6  35.000000  25.000000       41.9000     25.000000   \n",
              " 2986            14707.3  29.000000  23.800000       32.1000     23.800000   \n",
              " \n",
              "             dew   humidity  windspeed     winddir  sealevelpressure  \\\n",
              " 1893  23.967013  82.733329   0.000000  219.058708         23.967013   \n",
              " 4384  25.600000  83.800000  19.400000  226.700000       1012.700000   \n",
              " 6820  23.700000  79.100000  21.600000  209.600000       1013.100000   \n",
              " 5905  23.500000  87.300000  20.200000  249.000000       1013.100000   \n",
              " 1669  23.500000  85.400000  18.400000  310.000000       1012.800000   \n",
              " ...         ...        ...        ...         ...               ...   \n",
              " 2699  23.900000  91.300000  15.800000  224.700000       1013.100000   \n",
              " 6983  22.300000  80.500000  25.600000  228.700000       1014.200000   \n",
              " 3362  23.600000  89.500000  27.700000  248.800000       1014.100000   \n",
              " 6830  24.700000  77.600000  18.700000  195.200000       1010.400000   \n",
              " 2986  22.600000  82.700000  22.345473  219.058708       1015.200000   \n",
              " \n",
              "       cloudcover  \n",
              " 1893   60.310839  \n",
              " 4384   66.400000  \n",
              " 6820   39.800000  \n",
              " 5905   60.700000  \n",
              " 1669   48.200000  \n",
              " ...          ...  \n",
              " 2699   60.300000  \n",
              " 6983   54.200000  \n",
              " 3362   67.700000  \n",
              " 6830   45.700000  \n",
              " 2986   69.700000  \n",
              " \n",
              " [1472 rows x 11 columns],\n",
              " 1893    0\n",
              " 4384    0\n",
              " 6820    0\n",
              " 5905    0\n",
              " 1669    0\n",
              "        ..\n",
              " 2699    0\n",
              " 6983    0\n",
              " 3362    0\n",
              " 6830    0\n",
              " 2986    0\n",
              " Name: flood occurrence, Length: 1472, dtype: int64,\n",
              "       cumulative_precip  tempmax  tempmin  feelslikemax  feelslikemin   dew  \\\n",
              " 705              2240.9     34.1     26.2          42.1          26.2  25.1   \n",
              " 5192            26197.2     27.0     24.0          29.6          24.0  22.2   \n",
              " 2264            10629.5     30.0     22.6          33.5          22.6  21.7   \n",
              " 4280            21549.8     34.2     21.0          32.9          21.0  15.6   \n",
              " 57                104.3     28.2     23.6          32.3          23.6  24.1   \n",
              " ...                 ...      ...      ...           ...           ...   ...   \n",
              " 5191            26197.1     29.0     23.8          32.7          23.8  22.8   \n",
              " 5226            26328.2     28.0     24.9          32.7          24.9  24.1   \n",
              " 5390            27073.9     34.0     26.0          43.6          26.0  25.8   \n",
              " 860              4729.3     29.1     26.4          33.7          26.4  24.1   \n",
              " 7270            35965.8     33.0     25.0          40.6          25.0  23.9   \n",
              " \n",
              "       humidity  windspeed  winddir  sealevelpressure  cloudcover  \n",
              " 705       72.9       33.5    232.0            1009.1        86.0  \n",
              " 5192      83.0       16.6    217.7            1016.1        62.2  \n",
              " 2264      78.8       37.1    247.8            1014.4        54.5  \n",
              " 4280      54.9       16.6     30.0            1013.2        25.5  \n",
              " 57        93.1       37.1    243.0            1010.1        93.8  \n",
              " ...        ...        ...      ...               ...         ...  \n",
              " 5191      82.3       19.5    196.2            1016.2        56.1  \n",
              " 5226      89.4       16.6    228.5            1012.5        59.3  \n",
              " 5390      81.8       14.8    248.3            1013.1        62.8  \n",
              " 860       79.3       33.5    223.7            1011.9        90.0  \n",
              " 7270      74.5       24.1    225.8            1010.1        51.0  \n",
              " \n",
              " [5885 rows x 11 columns],\n",
              " 705     0\n",
              " 5192    0\n",
              " 2264    0\n",
              " 4280    0\n",
              " 57      0\n",
              "        ..\n",
              " 5191    0\n",
              " 5226    0\n",
              " 5390    0\n",
              " 860     0\n",
              " 7270    0\n",
              " Name: flood occurrence, Length: 5885, dtype: int64)"
            ]
          },
          "metadata": {},
          "execution_count": 51
        }
      ]
    },
    {
      "cell_type": "code",
      "source": [
        "predictions = model.predict(x_test)\n",
        "predictions"
      ],
      "metadata": {
        "colab": {
          "base_uri": "https://localhost:8080/"
        },
        "id": "23N5E4wuRzFt",
        "outputId": "5cb9c3f1-3094-455b-a1b4-3278257344a0"
      },
      "execution_count": 52,
      "outputs": [
        {
          "output_type": "execute_result",
          "data": {
            "text/plain": [
              "array([0, 0, 0, ..., 0, 0, 0])"
            ]
          },
          "metadata": {},
          "execution_count": 52
        }
      ]
    },
    {
      "cell_type": "code",
      "source": [
        "# Evaluate model\n",
        "accuracy = (predictions == y_test).mean()\n",
        "print(f'Prediction Accuracy: {accuracy * 100:.2f}%')"
      ],
      "metadata": {
        "colab": {
          "base_uri": "https://localhost:8080/"
        },
        "id": "IzVJ3a6SSH6C",
        "outputId": "f6948853-8373-4074-c260-ba49ff387740"
      },
      "execution_count": 53,
      "outputs": [
        {
          "output_type": "stream",
          "name": "stdout",
          "text": [
            "Prediction Accuracy: 99.39%\n"
          ]
        }
      ]
    },
    {
      "cell_type": "code",
      "source": [
        "# Assuming 'lagos' is your DataFrame and you want to predict on the last row\n",
        "latest_data = lagos.iloc[[-1]]  # Select the last row\n",
        "\n",
        "# Select only the features used during training\n",
        "training_features = ['cumulative_precip','tempmax', 'tempmin','feelslikemax',\n",
        "       'feelslikemin','dew', 'humidity','windspeed', 'winddir','sealevelpressure', 'cloudcover']\n",
        "latest_data = latest_data[training_features]\n",
        "\n",
        "# Predict the next flood\n",
        "next_flood = model.predict(latest_data)\n",
        "\n",
        "# Get the next date for prediction\n",
        "next_date = pd.to_datetime(lagos['datetime'].iloc[-1]) + pd.Timedelta(days=365)\n",
        "print(f'Next Flood Prediction for {next_date.date()}: {\"Yes\" if next_flood else \"No\"}')"
      ],
      "metadata": {
        "colab": {
          "base_uri": "https://localhost:8080/"
        },
        "id": "urIt8U2KSYOE",
        "outputId": "6ab630e9-229a-49a0-817e-c1af1c5cf85d"
      },
      "execution_count": 54,
      "outputs": [
        {
          "output_type": "stream",
          "name": "stdout",
          "text": [
            "Next Flood Prediction for 2025-07-03: No\n"
          ]
        }
      ]
    }
  ]
}